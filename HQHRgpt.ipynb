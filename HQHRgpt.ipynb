{
 "cells": [
  {
   "cell_type": "markdown",
   "id": "1b93b3bb-8dec-405e-8d80-9908909da2d2",
   "metadata": {},
   "source": [
    "# Multimodel RAG Chatbot"
   ]
  },
  {
   "cell_type": "code",
   "execution_count": null,
   "id": "67f1ee23-afe3-4385-b14b-cfe6f8575aa9",
   "metadata": {},
   "outputs": [],
   "source": []
  },
  {
   "cell_type": "code",
   "execution_count": null,
   "id": "95720a64-76eb-4408-8f8a-1f0b9e09c014",
   "metadata": {},
   "outputs": [],
   "source": []
  },
  {
   "cell_type": "code",
   "execution_count": null,
   "id": "12d37130-e11f-4112-b24c-8d96d133c30e",
   "metadata": {},
   "outputs": [],
   "source": []
  },
  {
   "cell_type": "code",
   "execution_count": null,
   "id": "bf0942b9-b4be-481a-a36c-f3f46ae9bb59",
   "metadata": {},
   "outputs": [],
   "source": []
  },
  {
   "cell_type": "code",
   "execution_count": null,
   "id": "481a4dcc-05b3-4130-9959-ce85f0f75e38",
   "metadata": {},
   "outputs": [],
   "source": []
  },
  {
   "cell_type": "code",
   "execution_count": null,
   "id": "e6f45e4a-adac-4705-88b4-7aa4e735bd96",
   "metadata": {},
   "outputs": [],
   "source": []
  },
  {
   "cell_type": "code",
   "execution_count": null,
   "id": "5b2c7fe1-c112-4510-a4a4-fd073b8d85b8",
   "metadata": {},
   "outputs": [],
   "source": []
  },
  {
   "cell_type": "code",
   "execution_count": null,
   "id": "d44e88c4-5a77-4ab2-b00c-1cd504063a11",
   "metadata": {},
   "outputs": [],
   "source": []
  }
 ],
 "metadata": {
  "kernelspec": {
   "display_name": "Python 3 (ipykernel)",
   "language": "python",
   "name": "python3"
  },
  "language_info": {
   "codemirror_mode": {
    "name": "ipython",
    "version": 3
   },
   "file_extension": ".py",
   "mimetype": "text/x-python",
   "name": "python",
   "nbconvert_exporter": "python",
   "pygments_lexer": "ipython3",
   "version": "3.11.4"
  }
 },
 "nbformat": 4,
 "nbformat_minor": 5
}
