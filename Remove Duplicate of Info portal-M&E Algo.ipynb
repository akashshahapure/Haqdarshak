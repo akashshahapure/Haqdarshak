{
 "cells": [
  {
   "cell_type": "code",
   "execution_count": null,
   "id": "ccb86f77-3b40-4028-9f38-5094da4d9356",
   "metadata": {},
   "outputs": [],
   "source": [
    "        import tensorflow as tf\n",
    "        print(tf.config.list_physical_devices('GPU'))"
   ]
  },
  {
   "cell_type": "code",
   "execution_count": null,
   "id": "03582042-3d65-477e-b30a-d10244fb46e1",
   "metadata": {},
   "outputs": [],
   "source": [
    "! python.exe -m pip install --upgrade pip\n",
    "! pip install pandas\n",
    "! pip install numpy\n",
    "! pip install openpyxl\n",
    "! pip install seaborn"
   ]
  },
  {
   "cell_type": "code",
   "execution_count": 1,
   "id": "1c70450f",
   "metadata": {
    "collapsed": false,
    "jupyter": {
     "outputs_hidden": false
    },
    "pycharm": {
     "name": "#%%\n"
    }
   },
   "outputs": [
    {
     "name": "stdout",
     "output_type": "stream",
     "text": [
      "\n",
      "*****Required libraries imported*****\n"
     ]
    }
   ],
   "source": [
    "import pandas as pd, numpy as np\n",
    "import warnings\n",
    "warnings.filterwarnings('ignore')\n",
    "pd.set_option('display.max_columns', None)\n",
    "pd.set_option('display.max_rows', None)\n",
    "print(\"\\n*****Required libraries imported*****\")"
   ]
  },
  {
   "cell_type": "markdown",
   "id": "322a1231-0b81-46fe-a7b0-5d62282e72c2",
   "metadata": {},
   "source": [
    "# Mention project raw data filename below"
   ]
  },
  {
   "cell_type": "code",
   "execution_count": 7,
   "id": "df8b1bf2-6d57-4b67-8e2d-3dafaf322fa6",
   "metadata": {},
   "outputs": [],
   "source": [
    "file_Name = 'cases_report_Nasscom1.0_All_(All States)_2024-02-13.csv'"
   ]
  },
  {
   "cell_type": "code",
   "execution_count": 8,
   "id": "715f9235-c2e3-4b0e-91a1-20c59ea00048",
   "metadata": {},
   "outputs": [],
   "source": [
    "def csvORexcel():\n",
    "    try:\n",
    "        path = \"C:\\\\Python\\\\read\\\\\"+file_Name\n",
    "        if file_Name.split('.')[-1].startswith('c'):\n",
    "            df = pd.read_csv(path)\n",
    "            return df\n",
    "        elif file_Name.split('.')[-1].startswith('x'):\n",
    "            df = pd.read_excel(path)\n",
    "            return df\n",
    "    except FileNotFoundError:\n",
    "        print(\"The file name {0} has not found\".format(path))\n",
    "\n",
    "fn = file_Name"
   ]
  },
  {
   "cell_type": "code",
   "execution_count": 9,
   "id": "fe0a370c-132a-4494-8073-ea317ebc0f74",
   "metadata": {},
   "outputs": [
    {
     "data": {
      "text/html": [
       "<div>\n",
       "<style scoped>\n",
       "    .dataframe tbody tr th:only-of-type {\n",
       "        vertical-align: middle;\n",
       "    }\n",
       "\n",
       "    .dataframe tbody tr th {\n",
       "        vertical-align: top;\n",
       "    }\n",
       "\n",
       "    .dataframe thead th {\n",
       "        text-align: right;\n",
       "    }\n",
       "</style>\n",
       "<table border=\"1\" class=\"dataframe\">\n",
       "  <thead>\n",
       "    <tr style=\"text-align: right;\">\n",
       "      <th></th>\n",
       "      <th>Case Id</th>\n",
       "      <th>Createdon</th>\n",
       "      <th>Scheme/Doc</th>\n",
       "      <th>Scheme/Doc GUID</th>\n",
       "      <th>Status</th>\n",
       "      <th>Docket Submitted Date</th>\n",
       "      <th>Benefit received Date</th>\n",
       "      <th>HD Suspected Cases</th>\n",
       "      <th>Case Organization</th>\n",
       "      <th>Case District</th>\n",
       "      <th>Citizen GUID</th>\n",
       "      <th>Citizen Name</th>\n",
       "      <th>DOB</th>\n",
       "      <th>Gender</th>\n",
       "      <th>Mobile</th>\n",
       "      <th>Age</th>\n",
       "      <th>Family GUID</th>\n",
       "      <th>Family Name</th>\n",
       "      <th>HD ID</th>\n",
       "      <th>HD Name</th>\n",
       "      <th>Opsco name</th>\n",
       "    </tr>\n",
       "  </thead>\n",
       "  <tbody>\n",
       "    <tr>\n",
       "      <th>0</th>\n",
       "      <td>EP01SVRD</td>\n",
       "      <td>28-Feb-2023</td>\n",
       "      <td>Digital Health ID card_MP</td>\n",
       "      <td>SH0009I2</td>\n",
       "      <td>Data complete</td>\n",
       "      <td>NaN</td>\n",
       "      <td>NaN</td>\n",
       "      <td>Not Suspected</td>\n",
       "      <td>MP - Nasscom Foundation</td>\n",
       "      <td>Damoh</td>\n",
       "      <td>PN01YXCW</td>\n",
       "      <td>Abhishek Rai</td>\n",
       "      <td>14-Oct-1999</td>\n",
       "      <td>M</td>\n",
       "      <td>8120331866</td>\n",
       "      <td>24.0</td>\n",
       "      <td>PG01RM4E</td>\n",
       "      <td>Rai</td>\n",
       "      <td>parash.sahu</td>\n",
       "      <td>Parasmani Sahu</td>\n",
       "      <td>Parasmani Sahu</td>\n",
       "    </tr>\n",
       "    <tr>\n",
       "      <th>1</th>\n",
       "      <td>EP01ZSED</td>\n",
       "      <td>28-Mar-2023</td>\n",
       "      <td>MP-Aadhar seeding to Samagra</td>\n",
       "      <td>DC00097P</td>\n",
       "      <td>Data complete</td>\n",
       "      <td>NaN</td>\n",
       "      <td>NaN</td>\n",
       "      <td>Not Suspected</td>\n",
       "      <td>MP - Nasscom Foundation</td>\n",
       "      <td>Damoh</td>\n",
       "      <td>PN026FQH</td>\n",
       "      <td>Naresh Kumar Ahirwar</td>\n",
       "      <td>10-Jul-1999</td>\n",
       "      <td>M</td>\n",
       "      <td>9625601462</td>\n",
       "      <td>24.0</td>\n",
       "      <td>PG01YRH3</td>\n",
       "      <td>Ahirwar</td>\n",
       "      <td>parash.sahu</td>\n",
       "      <td>Parasmani Sahu</td>\n",
       "      <td>Parasmani Sahu</td>\n",
       "    </tr>\n",
       "    <tr>\n",
       "      <th>2</th>\n",
       "      <td>EP0203IG</td>\n",
       "      <td>29-Mar-2023</td>\n",
       "      <td>E-Shram Card_MP</td>\n",
       "      <td>SH0009HI</td>\n",
       "      <td>Data complete</td>\n",
       "      <td>NaN</td>\n",
       "      <td>NaN</td>\n",
       "      <td>Not Suspected</td>\n",
       "      <td>MP - Nasscom Foundation</td>\n",
       "      <td>Damoh</td>\n",
       "      <td>PN01ZCK0</td>\n",
       "      <td>Parasmani Sahu</td>\n",
       "      <td>01-Jan-1997</td>\n",
       "      <td>M</td>\n",
       "      <td>9630483273</td>\n",
       "      <td>27.0</td>\n",
       "      <td>PG01S0GV</td>\n",
       "      <td>Sahu</td>\n",
       "      <td>parash.sahu</td>\n",
       "      <td>Parasmani Sahu</td>\n",
       "      <td>Parasmani Sahu</td>\n",
       "    </tr>\n",
       "    <tr>\n",
       "      <th>3</th>\n",
       "      <td>EP021FB4</td>\n",
       "      <td>03-Apr-2023</td>\n",
       "      <td>Registration of farmers for training on natura...</td>\n",
       "      <td>SH000A1G</td>\n",
       "      <td>Data complete</td>\n",
       "      <td>NaN</td>\n",
       "      <td>NaN</td>\n",
       "      <td>Not Suspected</td>\n",
       "      <td>MP - Nasscom Foundation</td>\n",
       "      <td>Damoh</td>\n",
       "      <td>PN0281HS</td>\n",
       "      <td>Lakhan Lal Pandey</td>\n",
       "      <td>01-Jan-1973</td>\n",
       "      <td>M</td>\n",
       "      <td>8889139573</td>\n",
       "      <td>51.0</td>\n",
       "      <td>PG020A2X</td>\n",
       "      <td>Pandey</td>\n",
       "      <td>parash.sahu</td>\n",
       "      <td>Parasmani Sahu</td>\n",
       "      <td>Parasmani Sahu</td>\n",
       "    </tr>\n",
       "    <tr>\n",
       "      <th>4</th>\n",
       "      <td>EP021M1G</td>\n",
       "      <td>04-Apr-2023</td>\n",
       "      <td>Digital Health ID card_MP</td>\n",
       "      <td>SH0009I2</td>\n",
       "      <td>Data complete</td>\n",
       "      <td>NaN</td>\n",
       "      <td>NaN</td>\n",
       "      <td>Not Suspected</td>\n",
       "      <td>MP - Nasscom Foundation</td>\n",
       "      <td>Damoh</td>\n",
       "      <td>PN0289XV</td>\n",
       "      <td>Sakshi Lodhi</td>\n",
       "      <td>20-Feb-2004</td>\n",
       "      <td>F</td>\n",
       "      <td>6266780959</td>\n",
       "      <td>19.0</td>\n",
       "      <td>PG020HEI</td>\n",
       "      <td>Lodhi</td>\n",
       "      <td>parash.sahu</td>\n",
       "      <td>Parasmani Sahu</td>\n",
       "      <td>Parasmani Sahu</td>\n",
       "    </tr>\n",
       "  </tbody>\n",
       "</table>\n",
       "</div>"
      ],
      "text/plain": [
       "    Case Id    Createdon                                         Scheme/Doc  \\\n",
       "0  EP01SVRD  28-Feb-2023                          Digital Health ID card_MP   \n",
       "1  EP01ZSED  28-Mar-2023                       MP-Aadhar seeding to Samagra   \n",
       "2  EP0203IG  29-Mar-2023                                    E-Shram Card_MP   \n",
       "3  EP021FB4  03-Apr-2023  Registration of farmers for training on natura...   \n",
       "4  EP021M1G  04-Apr-2023                          Digital Health ID card_MP   \n",
       "\n",
       "  Scheme/Doc GUID         Status Docket Submitted Date Benefit received Date  \\\n",
       "0        SH0009I2  Data complete                   NaN                   NaN   \n",
       "1        DC00097P  Data complete                   NaN                   NaN   \n",
       "2        SH0009HI  Data complete                   NaN                   NaN   \n",
       "3        SH000A1G  Data complete                   NaN                   NaN   \n",
       "4        SH0009I2  Data complete                   NaN                   NaN   \n",
       "\n",
       "  HD Suspected Cases        Case Organization Case District Citizen GUID  \\\n",
       "0      Not Suspected  MP - Nasscom Foundation         Damoh     PN01YXCW   \n",
       "1      Not Suspected  MP - Nasscom Foundation         Damoh     PN026FQH   \n",
       "2      Not Suspected  MP - Nasscom Foundation         Damoh     PN01ZCK0   \n",
       "3      Not Suspected  MP - Nasscom Foundation         Damoh     PN0281HS   \n",
       "4      Not Suspected  MP - Nasscom Foundation         Damoh     PN0289XV   \n",
       "\n",
       "           Citizen Name          DOB Gender      Mobile   Age Family GUID  \\\n",
       "0          Abhishek Rai  14-Oct-1999      M  8120331866  24.0    PG01RM4E   \n",
       "1  Naresh Kumar Ahirwar  10-Jul-1999      M  9625601462  24.0    PG01YRH3   \n",
       "2        Parasmani Sahu  01-Jan-1997      M  9630483273  27.0    PG01S0GV   \n",
       "3     Lakhan Lal Pandey  01-Jan-1973      M  8889139573  51.0    PG020A2X   \n",
       "4          Sakshi Lodhi  20-Feb-2004      F  6266780959  19.0    PG020HEI   \n",
       "\n",
       "  Family Name        HD ID         HD Name      Opsco name  \n",
       "0         Rai  parash.sahu  Parasmani Sahu  Parasmani Sahu  \n",
       "1     Ahirwar  parash.sahu  Parasmani Sahu  Parasmani Sahu  \n",
       "2        Sahu  parash.sahu  Parasmani Sahu  Parasmani Sahu  \n",
       "3      Pandey  parash.sahu  Parasmani Sahu  Parasmani Sahu  \n",
       "4       Lodhi  parash.sahu  Parasmani Sahu  Parasmani Sahu  "
      ]
     },
     "execution_count": 9,
     "metadata": {},
     "output_type": "execute_result"
    }
   ],
   "source": [
    "data0 = csvORexcel()\n",
    "data0.head()"
   ]
  },
  {
   "cell_type": "code",
   "execution_count": 10,
   "id": "5b095300-d02e-4548-82d5-f5ca65b29936",
   "metadata": {},
   "outputs": [],
   "source": [
    "states = {'AP':'Andhra Pradesh',\n",
    "'AR':'Arunachal Pradesh',\n",
    "'AS':'Assam',\n",
    "'BR':'Bihar',\n",
    "'BH':'Bihar',\n",
    "'CT':'Chhattisgarh',\n",
    "'CG':'Chhattisgarh',\n",
    "'GA':'Goa',\n",
    "'GJ':'Gujarat',\n",
    "'HR':'Haryana',\n",
    "'HP':'Himachal Pradesh',\n",
    "'JH':'Jharkhand',\n",
    "'KA':'Karnataka',\n",
    "'KL':'Kerala',\n",
    "'MP':'Madhya Pradesh',\n",
    "'MH':'Maharashtra',\n",
    "'MN':'Manipur',\n",
    "'ML':'Meghalaya',\n",
    "'MZ':'Mizoram',\n",
    "'NL':'Nagaland',\n",
    "'OR':'Odisha',\n",
    "'PB':'Punjab',\n",
    "'RJ':'Rajasthan',\n",
    "'SK':'Sikkim',\n",
    "'TN':'Tamil Nadu',\n",
    "'TG':'Telangana',\n",
    "'TR':'Tripura',\n",
    "'UP':'Uttar Pradesh',\n",
    "'UT':'Uttarakhand',\n",
    "'WB':'West Bengal'}"
   ]
  },
  {
   "cell_type": "markdown",
   "id": "f9049c9f-f738-4faa-9afb-b47c94ba3e33",
   "metadata": {},
   "source": [
    "# Data Cleaning"
   ]
  },
  {
   "cell_type": "code",
   "execution_count": 11,
   "id": "d0de78b0-06b2-449b-8c93-9973556aa85e",
   "metadata": {
    "scrolled": true
   },
   "outputs": [
    {
     "ename": "AttributeError",
     "evalue": "'NoneType' object has no attribute 'info'",
     "output_type": "error",
     "traceback": [
      "\u001b[1;31m---------------------------------------------------------------------------\u001b[0m",
      "\u001b[1;31mAttributeError\u001b[0m                            Traceback (most recent call last)",
      "Cell \u001b[1;32mIn[11], line 34\u001b[0m\n\u001b[0;32m     31\u001b[0m     \u001b[38;5;28;01mexcept\u001b[39;00m \u001b[38;5;167;01mKeyError\u001b[39;00m:\n\u001b[0;32m     32\u001b[0m         \u001b[38;5;28;01mcontinue\u001b[39;00m\n\u001b[1;32m---> 34\u001b[0m \u001b[43mdata0\u001b[49m\u001b[38;5;241;43m.\u001b[39;49m\u001b[43mreset_index\u001b[49m\u001b[43m(\u001b[49m\u001b[43minplace\u001b[49m\u001b[38;5;241;43m=\u001b[39;49m\u001b[38;5;28;43;01mTrue\u001b[39;49;00m\u001b[43m)\u001b[49m\u001b[38;5;241;43m.\u001b[39;49m\u001b[43minfo\u001b[49m()\n",
      "\u001b[1;31mAttributeError\u001b[0m: 'NoneType' object has no attribute 'info'"
     ]
    }
   ],
   "source": [
    "# Remove last row.\n",
    "data0.drop(index = data0[data0.Createdon.isna()].index, inplace=True)\n",
    "\n",
    "# Replace null values\n",
    "data0['Scheme/Doc'].fillna('a', inplace=True)\n",
    "data0['Citizen Name'].fillna('a', inplace=True)\n",
    "data0['HD Name'].fillna('blank', inplace=True)\n",
    "#data0.Mobile.fillna(0, inplace=True)\n",
    "\n",
    "# Deleting records with status \"Case Aborted\" and \"Application rejected\"\n",
    "data0 = data0[(data0['Status'] != 'Case Aborted') & (data0['Status'] != 'Application rejected')]\n",
    "\n",
    "# Changing status values and keeping only \"Open/Submit/BR\"\n",
    "data0['Status'] = data0['Status'].apply(lambda x: 'Open' if x == 'Data complete' else 'Submitted' if x=='Docket submitted' else \"Benefit Received\" if x=='Scheme/Document received' else x)\n",
    "\n",
    "# Changing Case Organization values from state initials to full state name.\n",
    "data0['Case Organization'] = data0['Case Organization'].apply(lambda x: states[x[:2]])\n",
    "\n",
    "# Renaming column \"Case Organiisation\" & \"Case District\" to \"State\" & \"Disctrict\"\n",
    "data0.rename(columns={\"Case Organization\":\"State\",\"Case District\":\"District\"}, inplace=True)\n",
    "\n",
    "# Change gender from initial letter to full form.\n",
    "data0['Gender'] = data0['Gender'].apply(lambda x: 'Male' if x=='M' else 'Female' if x=='F' else 'Other' if x=='O' else x)\n",
    "\n",
    "# Convert \"Createdon\", \"Docket Submitted Date\", \"Benefit received Date\" column data type to Datetime format\n",
    "dt_col = ['Createdon', 'Docket Submitted Date', 'Benefit received Date', 'DOB']\n",
    "\n",
    "for col in dt_col:\n",
    "    try:\n",
    "        data0[col] = pd.to_datetime(data0[col], format='mixed', errors='ignore')\n",
    "    except KeyError:\n",
    "        continue\n",
    "\n",
    "data0.reset_index(inplace=True, drop=True)\n",
    "data0.info()"
   ]
  },
  {
   "cell_type": "markdown",
   "id": "85d6ef02-d493-427e-ad5c-aee8a2abacc1",
   "metadata": {},
   "source": [
    "# Translate local language district name to English"
   ]
  },
  {
   "cell_type": "code",
   "execution_count": 13,
   "id": "d60b8e6a-be8e-4396-9366-a47ed458c5e9",
   "metadata": {},
   "outputs": [
    {
     "data": {
      "text/plain": [
       "District\n",
       "Gautam Buddha Nagar    31915\n",
       "Name: count, dtype: int64"
      ]
     },
     "execution_count": 13,
     "metadata": {},
     "output_type": "execute_result"
    }
   ],
   "source": [
    "# Renaming Case District name from local language to english\n",
    "\n",
    "data0['District'] = data0['District'].apply(lambda x: \"Dohad\" if x==\"દોહદ\" else \"Haridwar\" if x==\"हरिद्वार\" else \"UDHAM SINGH NAGAR\".title() if (x==\"उदम सिंह नगर\" or x==\"Udam Singh Nagar\" or x==\"UDAM SINGH NAGAR\")\n",
    "                             else \"Sitamarhi\" if x==\"सीतामढ़ी\" else \"Mahasamund\" if (x==\"महासमुंद\" or x==\"Mahasamand\")\n",
    "                             else \"Rajgarh\" if x==\"राजगढ़\" else \"Muzaffarpur\" if x==\"मुजफ्फरपुर\" else \"Nawada\" if x==\"नवादा\" else \"Balrampur\" if x==\"बलरामपुर\"\n",
    "                             else \"DAMOH\".title() if x==\"दमोह\" else \"Shravasti\" if x==\"श्रावस्ती\" else \"NARMADA\".title() if x==\"નર્મદા\" else \"Chhatarpur\" if (x==\"छतरपुर\" or x==\"Chhattarpur\")\n",
    "                             else 'East Singhbum' if x=='ईस्ट सिंघबम' else 'Chhindwara' if x=='छिंदवारा' else 'Jalna' if x=='जालना' else 'Dhule' if x=='धुळे' else \"Dhanbad\" if x==\"धनबाद\"\n",
    "                             else 'Banas Kantha' if x=='બનાસ કાંઠા' else x.title())\n",
    "\n",
    "# Renaming column \"Case Organiisation\" & \"Case District\" to \"State\" & \"Disctrict\"\n",
    "data0.rename(columns={\"Case Organization\":\"State\",\"Case District\":\"District\"}, inplace=True)\n",
    "\n",
    "data0['District'].value_counts()"
   ]
  },
  {
   "cell_type": "markdown",
   "id": "70f3fb5b-2344-4d16-ae38-6bca5cd073b5",
   "metadata": {},
   "source": [
    "# DFL Schemes\n",
    "\n",
    "- SH0009SW = Digital productivity Service_ Basic\n",
    "- SH000BM6 = Digital productivity Service_Basic\n",
    "- SH000AG6 = Digital Productivity Services_Advanced\n",
    "- SH000A32 = Long Training on Digital & Financial Inclusion_Private\n",
    "- SH0009SW = Short Training on Digital & Financial Inclusion_Private\n",
    "- SH000AG6 = Digital Productivity Services and and employability training_Advanced"
   ]
  },
  {
   "cell_type": "markdown",
   "id": "21236768-2568-413f-b3b0-1ed5055102d2",
   "metadata": {},
   "source": [
    "# Removing DFL data"
   ]
  },
  {
   "cell_type": "code",
   "execution_count": 14,
   "id": "a63191d0-ce3c-4c35-b7e4-f80226ce103a",
   "metadata": {},
   "outputs": [
    {
     "name": "stdout",
     "output_type": "stream",
     "text": [
      "DFL Count=2743\n",
      "E-Gov Count=29172\n"
     ]
    }
   ],
   "source": [
    "# Adding column \"Scheme Type\" to differentiate Schemes and DFL\n",
    "data0[\"Scheme Category\"] = data0['Scheme/Doc GUID'].apply(lambda x: \"DFL\" if (x==\"SH0009SW\" or x==\"SH000AG6\" or x==\"SH000A32\" or x==\"SH0009SW\" or x==\"SH000AG6\" or x==\"SH000BM6\") else \"E-Gov\")\n",
    "\n",
    "dfl = data0[(data0['Scheme/Doc GUID'] == 'SH0009SW') | (data0['Scheme/Doc GUID'] == 'SH000AG6') | (data0['Scheme/Doc GUID'] == 'SH000A32') | (data0['Scheme/Doc GUID']=='SH0009SW') | (data0['Scheme/Doc GUID']=='SH000AG6') | (data0['Scheme/Doc GUID']=='SH000BM6')]\n",
    "data0 = data0[(data0['Scheme/Doc GUID'] != 'SH0009SW') & (data0['Scheme/Doc GUID'] != 'SH000AG6') & (data0['Scheme/Doc GUID'] != 'SH000A32') & (data0['Scheme/Doc GUID']!='SH0009SW') & (data0['Scheme/Doc GUID']!='SH000AG6') & (data0['Scheme/Doc GUID']!='SH000BM6')]\n",
    "print(\"DFL Count={0}\\nE-Gov Count={1}\".format(len(dfl),len(data0)))"
   ]
  },
  {
   "cell_type": "code",
   "execution_count": 15,
   "id": "04dd8933-104d-4d6f-9e75-d063576d12c2",
   "metadata": {
    "scrolled": true
   },
   "outputs": [
    {
     "name": "stdout",
     "output_type": "stream",
     "text": [
      "<class 'pandas.core.frame.DataFrame'>\n",
      "Index: 29172 entries, 0 to 32208\n",
      "Data columns (total 20 columns):\n",
      " #   Column                      Non-Null Count  Dtype         \n",
      "---  ------                      --------------  -----         \n",
      " 0   Case Id                     29172 non-null  object        \n",
      " 1   Createdon                   29172 non-null  datetime64[ns]\n",
      " 2   Scheme/Doc                  29172 non-null  object        \n",
      " 3   Scheme/Doc GUID             29172 non-null  object        \n",
      " 4   Status                      29172 non-null  object        \n",
      " 5   Docket Submitted Date       28676 non-null  datetime64[ns]\n",
      " 6   Benefit received Date       27427 non-null  datetime64[ns]\n",
      " 7   HD Suspected Cases          29172 non-null  object        \n",
      " 8   State                       29172 non-null  object        \n",
      " 9   District                    29172 non-null  object        \n",
      " 10  Citizen GUID                29172 non-null  object        \n",
      " 11  Citizen Name                29172 non-null  object        \n",
      " 12  Gender                      29172 non-null  object        \n",
      " 13  Age                         29172 non-null  float64       \n",
      " 14  Family GUID                 29172 non-null  object        \n",
      " 15  Family Name                 29172 non-null  object        \n",
      " 16  HD ID                       29172 non-null  object        \n",
      " 17  HD Name                     29172 non-null  object        \n",
      " 18  Opsco name                  29172 non-null  object        \n",
      " 19  Type of training channel ?  20882 non-null  object        \n",
      "dtypes: datetime64[ns](3), float64(1), object(16)\n",
      "memory usage: 4.7+ MB\n"
     ]
    }
   ],
   "source": [
    "data0.info()"
   ]
  },
  {
   "cell_type": "markdown",
   "id": "872df9f8-1829-48b3-9d1e-820e7c3b06f0",
   "metadata": {},
   "source": [
    "# Duplicate Column"
   ]
  },
  {
   "cell_type": "code",
   "execution_count": 16,
   "id": "84edf59d-1a9b-44a3-8bd9-f6a7f57d1208",
   "metadata": {},
   "outputs": [
    {
     "data": {
      "text/html": [
       "<div>\n",
       "<style scoped>\n",
       "    .dataframe tbody tr th:only-of-type {\n",
       "        vertical-align: middle;\n",
       "    }\n",
       "\n",
       "    .dataframe tbody tr th {\n",
       "        vertical-align: top;\n",
       "    }\n",
       "\n",
       "    .dataframe thead th {\n",
       "        text-align: right;\n",
       "    }\n",
       "</style>\n",
       "<table border=\"1\" class=\"dataframe\">\n",
       "  <thead>\n",
       "    <tr style=\"text-align: right;\">\n",
       "      <th></th>\n",
       "      <th>Case Id</th>\n",
       "      <th>Createdon</th>\n",
       "      <th>Scheme/Doc</th>\n",
       "      <th>Scheme/Doc GUID</th>\n",
       "      <th>Status</th>\n",
       "      <th>Docket Submitted Date</th>\n",
       "      <th>Benefit received Date</th>\n",
       "      <th>HD Suspected Cases</th>\n",
       "      <th>State</th>\n",
       "      <th>District</th>\n",
       "      <th>Citizen GUID</th>\n",
       "      <th>Citizen Name</th>\n",
       "      <th>Gender</th>\n",
       "      <th>Age</th>\n",
       "      <th>Family GUID</th>\n",
       "      <th>Family Name</th>\n",
       "      <th>HD ID</th>\n",
       "      <th>HD Name</th>\n",
       "      <th>Opsco name</th>\n",
       "      <th>Type of training channel ?</th>\n",
       "      <th>duplicate</th>\n",
       "    </tr>\n",
       "  </thead>\n",
       "  <tbody>\n",
       "    <tr>\n",
       "      <th>0</th>\n",
       "      <td>EP0282YR</td>\n",
       "      <td>2023-06-07</td>\n",
       "      <td>E-Shram Card (Central)</td>\n",
       "      <td>SH0009HD</td>\n",
       "      <td>Benefit Received</td>\n",
       "      <td>2023-06-13</td>\n",
       "      <td>2023-06-13</td>\n",
       "      <td>Not Suspected</td>\n",
       "      <td>Uttar Pradesh</td>\n",
       "      <td>Gautam Buddha Nagar</td>\n",
       "      <td>PN02ETYB</td>\n",
       "      <td>Gauri Shankar</td>\n",
       "      <td>Male</td>\n",
       "      <td>53.0</td>\n",
       "      <td>PG026NY9</td>\n",
       "      <td>Shankar</td>\n",
       "      <td>Mohit.Yogi1</td>\n",
       "      <td>Mohit Yogi</td>\n",
       "      <td>Rahul Rastogi</td>\n",
       "      <td>NaN</td>\n",
       "      <td>e-shram card (central)gauri shankarmohit yogi</td>\n",
       "    </tr>\n",
       "    <tr>\n",
       "      <th>1</th>\n",
       "      <td>EP0282Z8</td>\n",
       "      <td>2023-06-07</td>\n",
       "      <td>E-Shram Card (Central)</td>\n",
       "      <td>SH0009HD</td>\n",
       "      <td>Benefit Received</td>\n",
       "      <td>2023-06-13</td>\n",
       "      <td>2023-06-13</td>\n",
       "      <td>Not Suspected</td>\n",
       "      <td>Uttar Pradesh</td>\n",
       "      <td>Gautam Buddha Nagar</td>\n",
       "      <td>PN02ETYU</td>\n",
       "      <td>Bisamillah Bisamillah</td>\n",
       "      <td>Male</td>\n",
       "      <td>60.0</td>\n",
       "      <td>PG026NYS</td>\n",
       "      <td>Bisamillah</td>\n",
       "      <td>Mohit.Yogi1</td>\n",
       "      <td>Mohit Yogi</td>\n",
       "      <td>Rahul Rastogi</td>\n",
       "      <td>NaN</td>\n",
       "      <td>e-shram card (central)bisamillah bisamillahmoh...</td>\n",
       "    </tr>\n",
       "    <tr>\n",
       "      <th>2</th>\n",
       "      <td>EP02831X</td>\n",
       "      <td>2023-06-07</td>\n",
       "      <td>Indira Gandhi National Widow Pension Scheme_UP</td>\n",
       "      <td>SH0000LL</td>\n",
       "      <td>Open</td>\n",
       "      <td>NaT</td>\n",
       "      <td>NaT</td>\n",
       "      <td>Not Suspected</td>\n",
       "      <td>Uttar Pradesh</td>\n",
       "      <td>Gautam Buddha Nagar</td>\n",
       "      <td>PN02EU1D</td>\n",
       "      <td>Anokhi Anokhi</td>\n",
       "      <td>Female</td>\n",
       "      <td>75.0</td>\n",
       "      <td>PG026O15</td>\n",
       "      <td>Anokhi</td>\n",
       "      <td>Mohit.Yogi1</td>\n",
       "      <td>Mohit Yogi</td>\n",
       "      <td>Rahul Rastogi</td>\n",
       "      <td>NaN</td>\n",
       "      <td>indira gandhi national widow pension scheme_up...</td>\n",
       "    </tr>\n",
       "    <tr>\n",
       "      <th>3</th>\n",
       "      <td>EP028328</td>\n",
       "      <td>2023-06-07</td>\n",
       "      <td>E-Shram Card (Central)</td>\n",
       "      <td>SH0009HD</td>\n",
       "      <td>Benefit Received</td>\n",
       "      <td>2023-06-13</td>\n",
       "      <td>2023-06-13</td>\n",
       "      <td>Not Suspected</td>\n",
       "      <td>Uttar Pradesh</td>\n",
       "      <td>Gautam Buddha Nagar</td>\n",
       "      <td>PN02EU1L</td>\n",
       "      <td>Afroj Afroj</td>\n",
       "      <td>Male</td>\n",
       "      <td>53.0</td>\n",
       "      <td>PG026O1F</td>\n",
       "      <td>Afroj</td>\n",
       "      <td>Mohit.Yogi1</td>\n",
       "      <td>Mohit Yogi</td>\n",
       "      <td>Rahul Rastogi</td>\n",
       "      <td>NaN</td>\n",
       "      <td>e-shram card (central)afroj afrojmohit yogi</td>\n",
       "    </tr>\n",
       "    <tr>\n",
       "      <th>4</th>\n",
       "      <td>EP02832W</td>\n",
       "      <td>2023-06-07</td>\n",
       "      <td>E-Shram Card (Central)</td>\n",
       "      <td>SH0009HD</td>\n",
       "      <td>Benefit Received</td>\n",
       "      <td>2023-06-13</td>\n",
       "      <td>2023-06-13</td>\n",
       "      <td>Not Suspected</td>\n",
       "      <td>Uttar Pradesh</td>\n",
       "      <td>Gautam Buddha Nagar</td>\n",
       "      <td>PN02EU28</td>\n",
       "      <td>Pooja Yadav</td>\n",
       "      <td>Female</td>\n",
       "      <td>21.0</td>\n",
       "      <td>PG026O20</td>\n",
       "      <td>Yadav</td>\n",
       "      <td>Mohit.Yogi1</td>\n",
       "      <td>Mohit Yogi</td>\n",
       "      <td>Rahul Rastogi</td>\n",
       "      <td>NaN</td>\n",
       "      <td>e-shram card (central)pooja yadavmohit yogi</td>\n",
       "    </tr>\n",
       "  </tbody>\n",
       "</table>\n",
       "</div>"
      ],
      "text/plain": [
       "    Case Id  Createdon                                      Scheme/Doc  \\\n",
       "0  EP0282YR 2023-06-07                          E-Shram Card (Central)   \n",
       "1  EP0282Z8 2023-06-07                          E-Shram Card (Central)   \n",
       "2  EP02831X 2023-06-07  Indira Gandhi National Widow Pension Scheme_UP   \n",
       "3  EP028328 2023-06-07                          E-Shram Card (Central)   \n",
       "4  EP02832W 2023-06-07                          E-Shram Card (Central)   \n",
       "\n",
       "  Scheme/Doc GUID            Status Docket Submitted Date  \\\n",
       "0        SH0009HD  Benefit Received            2023-06-13   \n",
       "1        SH0009HD  Benefit Received            2023-06-13   \n",
       "2        SH0000LL              Open                   NaT   \n",
       "3        SH0009HD  Benefit Received            2023-06-13   \n",
       "4        SH0009HD  Benefit Received            2023-06-13   \n",
       "\n",
       "  Benefit received Date HD Suspected Cases          State  \\\n",
       "0            2023-06-13      Not Suspected  Uttar Pradesh   \n",
       "1            2023-06-13      Not Suspected  Uttar Pradesh   \n",
       "2                   NaT      Not Suspected  Uttar Pradesh   \n",
       "3            2023-06-13      Not Suspected  Uttar Pradesh   \n",
       "4            2023-06-13      Not Suspected  Uttar Pradesh   \n",
       "\n",
       "              District Citizen GUID           Citizen Name  Gender   Age  \\\n",
       "0  Gautam Buddha Nagar     PN02ETYB          Gauri Shankar    Male  53.0   \n",
       "1  Gautam Buddha Nagar     PN02ETYU  Bisamillah Bisamillah    Male  60.0   \n",
       "2  Gautam Buddha Nagar     PN02EU1D          Anokhi Anokhi  Female  75.0   \n",
       "3  Gautam Buddha Nagar     PN02EU1L            Afroj Afroj    Male  53.0   \n",
       "4  Gautam Buddha Nagar     PN02EU28            Pooja Yadav  Female  21.0   \n",
       "\n",
       "  Family GUID Family Name        HD ID     HD Name     Opsco name  \\\n",
       "0    PG026NY9     Shankar  Mohit.Yogi1  Mohit Yogi  Rahul Rastogi   \n",
       "1    PG026NYS  Bisamillah  Mohit.Yogi1  Mohit Yogi  Rahul Rastogi   \n",
       "2    PG026O15      Anokhi  Mohit.Yogi1  Mohit Yogi  Rahul Rastogi   \n",
       "3    PG026O1F       Afroj  Mohit.Yogi1  Mohit Yogi  Rahul Rastogi   \n",
       "4    PG026O20       Yadav  Mohit.Yogi1  Mohit Yogi  Rahul Rastogi   \n",
       "\n",
       "  Type of training channel ?  \\\n",
       "0                        NaN   \n",
       "1                        NaN   \n",
       "2                        NaN   \n",
       "3                        NaN   \n",
       "4                        NaN   \n",
       "\n",
       "                                           duplicate  \n",
       "0      e-shram card (central)gauri shankarmohit yogi  \n",
       "1  e-shram card (central)bisamillah bisamillahmoh...  \n",
       "2  indira gandhi national widow pension scheme_up...  \n",
       "3        e-shram card (central)afroj afrojmohit yogi  \n",
       "4        e-shram card (central)pooja yadavmohit yogi  "
      ]
     },
     "execution_count": 16,
     "metadata": {},
     "output_type": "execute_result"
    }
   ],
   "source": [
    "# Creating column with name 'duplicate' by concatenation\n",
    "data0['duplicate'] = data0['Scheme/Doc'] + data0['Citizen Name'] + data0['Mobile'] # Concatenation\n",
    "data0['duplicate'] = data0['duplicate'].apply(lambda x: x.lower()) # Converting duplicate column in lower case because python considers ASCII values of each character while checking for duplicates.\n",
    "dfl['duplicate'] = dfl['Scheme/Doc'] + dfl['Citizen Name'] + dfl['Mobile']\n",
    "dfl['duplicate'] = dfl['duplicate'].apply(lambda x: x.lower())\n",
    "df['duplicate'] = df['Citizen Name'] + df['Mobile']\n",
    "df['duplicate'] = df['duplicate'].apply(lambda x: x.lower())\n",
    "data0.Mobile = data0.Mobile.apply(lambda x : int(x.split('.')[0])) # Converting \"Mobile\" column to interget data type\n",
    "dfl.Mobile = dfl.Mobile.apply(lambda x : int(x.split('.')[0])) # Converting \"Mobile\" column to interget data type\n",
    "\n",
    "data0.head()"
   ]
  },
  {
   "cell_type": "markdown",
   "id": "3b613d48-1b3c-4928-af8e-e3e16e94ab2a",
   "metadata": {},
   "source": [
    "# Duplicate Data"
   ]
  },
  {
   "cell_type": "code",
   "execution_count": 17,
   "id": "be1fe032-b52b-4c21-9a55-d8ffdc9546f6",
   "metadata": {},
   "outputs": [
    {
     "data": {
      "text/plain": [
       "(6113, 21)"
      ]
     },
     "execution_count": 17,
     "metadata": {},
     "output_type": "execute_result"
    }
   ],
   "source": [
    "# Checking number of all duplicate records\n",
    "duplicateData = data0[data0.duplicated(['duplicate'],keep=False)].sort_values('duplicate')\n",
    "dflDuplicates = dfl[dfl.duplicated(['duplicate'],keep=False)].sort_values('duplicate')\n",
    "duplicateData = pd.concat([duplicateData,dflDuplicates], ignore_index=True)\n",
    "duplicateData.reset_index(inplace=True, drop = True)\n",
    "\n",
    "try:\n",
    "    duplicateData.drop(index=duplicateData.index[-1], inplace=True)\n",
    "except IndexError:\n",
    "    print(duplicateData.shape)\n",
    "\n",
    "duplicateData.shape"
   ]
  },
  {
   "cell_type": "markdown",
   "id": "4f2d6cfe-660a-4c1f-948b-b3699c2f9dc3",
   "metadata": {},
   "source": [
    "# Unique Data"
   ]
  },
  {
   "cell_type": "code",
   "execution_count": 18,
   "id": "0816c5f6-c4df-4264-8e6f-341f1d79209d",
   "metadata": {},
   "outputs": [
    {
     "data": {
      "text/plain": [
       "(25771, 21)"
      ]
     },
     "execution_count": 18,
     "metadata": {},
     "output_type": "execute_result"
    }
   ],
   "source": [
    "# Keeping uniques excluding duplicates\n",
    "unique_data = data0.drop(index = data0[data0.duplicated(['duplicate'], keep='last')].index)\n",
    "unique_data.reset_index(inplace=True, drop = True)\n",
    "try:\n",
    "    unique_data.drop(index=unique_data.index[-1], inplace=True)\n",
    "except IndexError:\n",
    "    print(unique_data.shape)\n",
    "\n",
    "unique_data.shape"
   ]
  },
  {
   "cell_type": "code",
   "execution_count": 19,
   "id": "7943fa95-e082-480e-a792-fd63683d0c52",
   "metadata": {},
   "outputs": [
    {
     "name": "stdout",
     "output_type": "stream",
     "text": [
      "Export to Excel Success! Total 6113 duplicate records exported.\n"
     ]
    }
   ],
   "source": [
    "# Exporting data of all duplicate records to Excel file.\n",
    "duplicateData.to_excel('C:\\\\Python\\\\export\\\\'+fn.split('.')[0]+'_duplicate.xlsx', index=False)\n",
    "print('Export to Excel Success! Total {0} duplicate records exported.'.format(duplicateData.shape[0]))"
   ]
  },
  {
   "cell_type": "code",
   "execution_count": 20,
   "id": "d1e8fc26-e040-486d-966a-57e31da8c0f8",
   "metadata": {},
   "outputs": [
    {
     "name": "stdout",
     "output_type": "stream",
     "text": [
      "Export to Excel Success! Total 25771 duplicate records exported.\n"
     ]
    }
   ],
   "source": [
    "# Exporting data of all duplicate records to Excel file.\n",
    "with pd.ExcelWriter('C:\\\\Python\\\\export\\\\'+fn.split('.')[0]+'_uniques.xlsx') as writer:\n",
    "    unique_data.to_excel(writer, sheet_name='Schemes data', index=False)\n",
    "    if dfl.shape[0]<1:\n",
    "        dfl.to_excel(writer, sheet_name='DFL data', index=False)\n",
    "        \n",
    "print('Export to Excel Success! Total {0} duplicate records exported.'.format(unique_data.shape[0]))"
   ]
  }
 ],
 "metadata": {
  "kernelspec": {
   "display_name": "Python 3 (ipykernel)",
   "language": "python",
   "name": "python3"
  },
  "language_info": {
   "codemirror_mode": {
    "name": "ipython",
    "version": 3
   },
   "file_extension": ".py",
   "mimetype": "text/x-python",
   "name": "python",
   "nbconvert_exporter": "python",
   "pygments_lexer": "ipython3",
   "version": "3.11.4"
  }
 },
 "nbformat": 4,
 "nbformat_minor": 5
}
