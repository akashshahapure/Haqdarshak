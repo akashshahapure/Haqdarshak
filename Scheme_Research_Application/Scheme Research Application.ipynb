{
 "cells": [
  {
   "cell_type": "code",
   "execution_count": null,
   "id": "3bb27383-7700-41f7-ba45-5a1f57b04e89",
   "metadata": {},
   "outputs": [],
   "source": [
    "! pip install -r requirements.txt"
   ]
  },
  {
   "cell_type": "code",
   "execution_count": 8,
   "id": "63a20421-5e50-45bc-a529-afc4ee59ea46",
   "metadata": {},
   "outputs": [
    {
     "name": "stdout",
     "output_type": "stream",
     "text": [
      "Requried Libraries Imported!\n"
     ]
    }
   ],
   "source": [
    "import streamlit as st\n",
    "import openai\n",
    "import requests\n",
    "import langchain\n",
    "from langchain.document_loaders.excel import UnstructuredExcelLoader\n",
    "from langchain.text_splitter import CharacterTextSplitter\n",
    "from langchain.embeddings import OpenAIEmbeddings\n",
    "from langchain.vectorstores import FAISS\n",
    "import pickle\n",
    "\n",
    "print('Requried Libraries Imported!')"
   ]
  },
  {
   "cell_type": "code",
   "execution_count": null,
   "id": "b703d275-cd73-4904-8d5d-1c5fb52d48dc",
   "metadata": {},
   "outputs": [],
   "source": [
    "# Load OpenAI API key from .config file\n",
    "def load_api_key():\n",
    "    with open('.config', 'r') as file:\n",
    "        return file.readline().strip()\n",
    "\n",
    "openai.api_key = load_api_key()"
   ]
  },
  {
   "cell_type": "code",
   "execution_count": null,
   "id": "747e9262-ac4e-479a-978c-f74751894a24",
   "metadata": {},
   "outputs": [],
   "source": [
    "def fetch_article_content(url):\n",
    "    loader = UnstructuredURLLoader(url)\n",
    "    return loader.load()\n",
    "\n",
    "def generate_embeddings(text):\n",
    "    text_splitter = CharacterTextSplitter(chunk_size=1000, chunk_overlap=0)\n",
    "    texts = text_splitter.split_text(text)\n",
    "    embeddings = OpenAIEmbeddings()\n",
    "    return embeddings.embed_documents(texts)\n",
    "\n",
    "def save_faiss_index(index, path):\n",
    "    with open(path, 'wb') as f:\n",
    "        pickle.dump(index, f)\n",
    "\n",
    "def load_faiss_index(path):\n",
    "    with open(path, 'rb') as f:\n",
    "        return pickle.load(f)\n",
    "\n",
    "st.title(\"Scheme Research Application\")\n",
    "\n",
    "urls = st.sidebar.text_area(\"Enter URLs (one per line):\")\n",
    "\n",
    "if st.sidebar.button(\"Process URLs\"):\n",
    "    urls = urls.split(\"\\n\")\n",
    "    all_texts = []\n",
    "    for url in urls:\n",
    "        st.write(f\"Fetching content from: {url}\")\n",
    "        content = fetch_article_content(url)\n",
    "        all_texts.append(content)\n",
    "    \n",
    "    combined_text = \"\\n\".join(all_texts)\n",
    "    st.write(\"Generating embeddings...\")\n",
    "    embedding_vectors = generate_embeddings(combined_text)\n",
    "    \n",
    "    st.write(\"Indexing with FAISS...\")\n",
    "    faiss_index = FAISS.from_documents(embedding_vectors)\n",
    "    save_faiss_index(faiss_index, \"faiss_store_openai.pkl\")\n",
    "    st.success(\"Processing complete and FAISS index saved.\")\n",
    "\n",
    "if st.sidebar.button(\"Ask Question\"):\n",
    "    faiss_index = load_faiss_index(\"faiss_store_openai.pkl\")\n",
    "    question = st.text_input(\"Enter your question:\")\n",
    "    if question:\n",
    "        st.write(\"Fetching answer...\")\n",
    "        similar_docs = faiss_index.similarity_search(question)\n",
    "        answer = similar_docs[0]['text']\n",
    "        st.write(f\"Answer: {answer}\")\n",
    "        st.write(f\"Source URL: {similar_docs[0]['metadata']['source']}\")\n"
   ]
  }
 ],
 "metadata": {
  "kernelspec": {
   "display_name": "Python 3 (ipykernel)",
   "language": "python",
   "name": "python3"
  },
  "language_info": {
   "codemirror_mode": {
    "name": "ipython",
    "version": 3
   },
   "file_extension": ".py",
   "mimetype": "text/x-python",
   "name": "python",
   "nbconvert_exporter": "python",
   "pygments_lexer": "ipython3",
   "version": "3.11.4"
  }
 },
 "nbformat": 4,
 "nbformat_minor": 5
}
