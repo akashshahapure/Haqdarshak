{
 "cells": [
  {
   "cell_type": "code",
   "execution_count": 1,
   "id": "261c058f-ea89-4d9d-ad09-d9a41998ce69",
   "metadata": {},
   "outputs": [
    {
     "name": "stdout",
     "output_type": "stream",
     "text": [
      "\n",
      "*****Required libraries imported*****\n"
     ]
    }
   ],
   "source": [
    "import os,shutil, pandas as pd, openpyxl, math\n",
    "import warnings\n",
    "warnings.filterwarnings('ignore')\n",
    "print(\"\\n*****Required libraries imported*****\")"
   ]
  },
  {
   "cell_type": "code",
   "execution_count": 3,
   "id": "680f176d-7344-4720-98c6-a3009e8a594a",
   "metadata": {},
   "outputs": [
    {
     "name": "stdout",
     "output_type": "stream",
     "text": [
      "Chunksize =  150\n",
      "No. of rows =  233\n",
      "No. of files =  2\n"
     ]
    }
   ],
   "source": [
    "i = 1\n",
    "c_size = 150\n",
    "source = r'F:\\Haqdarshak Data\\DNT\\Source'\n",
    "dest = r'F:\\Haqdarshak Data\\DNT\\Open Data New - 3-7-2025'\n",
    "src_file_name = \"Open Data New - 3-7-2025.csv\"\n",
    "dest_file_name = \"Open Data New - 3-7-2025.xlsx\"\n",
    "print('Chunksize = ',c_size)\n",
    "print('No. of rows = ',pd.read_csv(os.path.join(source,src_file_name)).shape[0])\n",
    "print('No. of files = ',math.ceil(pd.read_csv(os.path.join(source,src_file_name)).shape[0]/c_size))\n",
    "cols = pd.read_csv(os.path.join(source,src_file_name)).columns.to_list()\n",
    "for chunk in pd.read_csv(os.path.join(source,src_file_name), chunksize=c_size, header=0, date_format=\"%d/%m/%Y\", encoding=\"utf_8\"):\n",
    "    try:\n",
    "        file_name = str(i)+\"-\"+dest_file_name\n",
    "        chunk[cols].to_excel(os.path.join(dest,file_name), index=False)\n",
    "        i+= 1\n",
    "    except FileExistsError:\n",
    "        i+= 1\n",
    "        file_name = str(i)+\"-\"+dest_file_name\n",
    "        chunk[cols].to_excel(os.path.join(dest,file_name), index=False)"
   ]
  },
  {
   "cell_type": "code",
   "execution_count": 10,
   "id": "ea92e223-e79c-46cd-af93-d6dd346bd98a",
   "metadata": {},
   "outputs": [],
   "source": [
    "src1 = r'F:\\Haqdarshak Data\\HUL\\HUL Data Upload\\MH\\\\New Data Upload_25_Mar-1_Apr\\SH000971 - CMEGP\\Proofs'\n",
    "src2 = r'F:\\Haqdarshak Data\\HUL\\HUL Data Upload\\MH\\\\New Data Upload_25_Mar-1_Apr\\SH000971 - CMEGP\\Proofs'\n",
    "dest = r'F:\\Haqdarshak Data\\HUL\\HUL Data Upload\\MH\\\\New Data Upload_25_Mar-1_Apr\\SH000971 - CMEGP'\n",
    "excels = [f for f in os.listdir(dest) if f.endswith('xlsx')]\n",
    "src1_proof = os.listdir(src1)\n",
    "src2_proof = os.listdir(src2)"
   ]
  },
  {
   "cell_type": "raw",
   "id": "063facc4-faa2-4c06-a0f0-affb7c7116e4",
   "metadata": {},
   "source": [
    "Docket submitted Proof - 1"
   ]
  },
  {
   "cell_type": "code",
   "execution_count": 11,
   "id": "ef3b933d-46bc-4607-9506-1fc7a5c73f68",
   "metadata": {},
   "outputs": [],
   "source": [
    "for fn in excels:\n",
    "    try:\n",
    "        #exl = pd.read_excel(dest+'\\\\'+fn) # Read excel file to pandas datafroma\n",
    "        proofList = pd.read_excel(dest+'\\\\'+fn)['Docket submitted Proof - 1'].dropna().to_list() # Get list of proof names\n",
    "        folderName = fn.split('.')[0] # Initiating folder name\n",
    "        for proof in proofList: # Iterating through proof name list\n",
    "            proof = proof.strip()\n",
    "            try: # Try to make directory with folder name\n",
    "                os.mkdir(dest+'\\\\'+folderName) # Making the folder with excel file name\n",
    "                if proof in src1_proof: # Checking if proof available in folder 1\n",
    "                    try: # Try to move proof file from folder 1 to new folder\n",
    "                        shutil.copy(src1+'\\\\'+proof, dest+'\\\\'+folderName) # Move proof file from folder 1 to new folder\n",
    "                    except shutil.SameFileError: # if proof file already exist\n",
    "                        print('{0} already exist!'.format(proof))\n",
    "                elif proof in src2_proof: # Checking if proof available in folder 1\n",
    "                    try: # Try to move proof file from folder 2 to new folder\n",
    "                        shutil.copy(src2+'\\\\'+proof, dest+'\\\\'+folderName) # Move proof file from folder 2 to new folder\n",
    "                    except shutil.SameFileError: # if proof file already exist\n",
    "                        print('{0} already exist!'.format(proof))\n",
    "            except FileExistsError: # If folder already exist\n",
    "                if proof in src1_proof: # Checking if proof available in folder 1\n",
    "                    try: # Try to move proof file from folder 1 to new folder\n",
    "                        shutil.copy(src1+'\\\\'+proof, dest+'\\\\'+folderName) # Move proof file from folder 1 to new folder\n",
    "                    except shutil.SameFileError: # if proof file already exist\n",
    "                        print('{0} already exist!'.format(proof))\n",
    "                elif proof in src2_proof: # Checking if proof available in folder 1\n",
    "                    try: # Try to move proof file from folder 2 to new folder\n",
    "                        shutil.copy(src2+'\\\\'+proof, dest+'\\\\'+folderName) # Move proof file from folder 2 to new folder\n",
    "                    except shutil.SameFileError: # if proof file already exist\n",
    "                        print('{0} already exist!'.format(proof))\n",
    "    except FileNotFoundError:\n",
    "        break"
   ]
  }
 ],
 "metadata": {
  "kernelspec": {
   "display_name": "Python 3 (ipykernel)",
   "language": "python",
   "name": "python3"
  },
  "language_info": {
   "codemirror_mode": {
    "name": "ipython",
    "version": 3
   },
   "file_extension": ".py",
   "mimetype": "text/x-python",
   "name": "python",
   "nbconvert_exporter": "python",
   "pygments_lexer": "ipython3",
   "version": "3.11.4"
  }
 },
 "nbformat": 4,
 "nbformat_minor": 5
}
