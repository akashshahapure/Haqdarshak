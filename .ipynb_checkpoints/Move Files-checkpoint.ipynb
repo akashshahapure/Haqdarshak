{
 "cells": [
  {
   "cell_type": "code",
   "execution_count": 2,
   "id": "261c058f-ea89-4d9d-ad09-d9a41998ce69",
   "metadata": {},
   "outputs": [],
   "source": [
    "import os,shutil, pandas as pd, openpyxl\n",
    "import warnings\n",
    "warnings.filterwarnings('ignore')"
   ]
  },
  {
   "cell_type": "code",
   "execution_count": 5,
   "id": "680f176d-7344-4720-98c6-a3009e8a594a",
   "metadata": {},
   "outputs": [],
   "source": [
    "i = 1\n",
    "c_size = 150\n",
    "source = 'F:\\Haqdarshak Data\\DNT\\Source'\n",
    "dest = 'F:\\Haqdarshak Data\\DNT\\Open Data - 1788'\n",
    "file_name = \"Open Data - 1788.csv\"\n",
    "cols = ['Sr.No.', 'MSME/Citizen GUID', 'Business Name', 'First name',\n",
    "       'Middle name', 'Last name', 'State', 'District', 'Block', 'Village',\n",
    "       'DOB according to Aadhar (DD/MM/YYYY)', 'Gender', 'Citizen Mobile',\n",
    "       'Mobile Number belongs to', 'Present occupation',\n",
    "       'Name of Community Resource Person (CRP)', 'HD/OPSCO Name', 'HD/OPSCO login ID',\n",
    "       'Scheme GUID (For case creation)', 'Case move into',\n",
    "       'Does your name appear on NHA beneficiary portal?', 'Ration card type',\n",
    "       'Docket submitted Proof - 1', 'Docket submitted Proof - 2',\n",
    "       'Benefit received Proof - 1', 'Benefit received Proof - 2']\n",
    "for chunk in pd.read_csv(os.path.join(source,file_name), chunksize=c_size, header=0, date_format=\"%d/%m/%Y\", encoding=\"utf_8\"):\n",
    "    file_name = str(i)+\"-\"+\"Open Data - 1788.xlsx\"\n",
    "    chunk[cols].to_excel(os.path.join(dest,file_name), index=False)\n",
    "    i+= 1"
   ]
  },
  {
   "cell_type": "code",
   "execution_count": 23,
   "id": "ea92e223-e79c-46cd-af93-d6dd346bd98a",
   "metadata": {},
   "outputs": [],
   "source": [
    "src1 = r'F:\\Haqdarshak Data\\DNT\\Proofs'\n",
    "src2 = r'F:\\Haqdarshak Data\\DNT\\Proofs'\n",
    "dest = r'F:\\Haqdarshak Data\\DNT'\n",
    "excels = [f for f in os.listdir(dest) if f.endswith('xlsx')]\n",
    "src1_proof = os.listdir(src1)\n",
    "src2_proof = os.listdir(src2)"
   ]
  },
  {
   "cell_type": "raw",
   "id": "063facc4-faa2-4c06-a0f0-affb7c7116e4",
   "metadata": {},
   "source": [
    "Docket submitted Proof - 1"
   ]
  },
  {
   "cell_type": "code",
   "execution_count": 24,
   "id": "ef3b933d-46bc-4607-9506-1fc7a5c73f68",
   "metadata": {},
   "outputs": [],
   "source": [
    "for fn in excels:\n",
    "    try:\n",
    "        #exl = pd.read_excel(dest+'\\\\'+fn) # Read excel file to pandas datafroma\n",
    "        proofList = pd.read_excel(dest+'\\\\'+fn)['Docket submitted Proof - 1'].dropna().to_list() # Get list of proof names\n",
    "        folderName = fn.split('.')[0] # Initiating folder name\n",
    "        for proof in proofList: # Iterating through proof name list\n",
    "            proof = proof.strip()\n",
    "            try: # Try to make directory with folder name\n",
    "                os.mkdir(dest+'\\\\'+folderName) # Making the folder with excel file name\n",
    "                if proof in src1_proof: # Checking if proof available in folder 1\n",
    "                    try: # Try to move proof file from folder 1 to new folder\n",
    "                        shutil.copy(src1+'\\\\'+proof, dest+'\\\\'+folderName) # Move proof file from folder 1 to new folder\n",
    "                    except shutil.SameFileError: # if proof file already exist\n",
    "                        print('{0} already exist!'.format(proof))\n",
    "                elif proof in src2_proof: # Checking if proof available in folder 1\n",
    "                    try: # Try to move proof file from folder 2 to new folder\n",
    "                        shutil.copy(src2+'\\\\'+proof, dest+'\\\\'+folderName) # Move proof file from folder 2 to new folder\n",
    "                    except shutil.SameFileError: # if proof file already exist\n",
    "                        print('{0} already exist!'.format(proof))\n",
    "            except FileExistsError: # If folder already exist\n",
    "                if proof in src1_proof: # Checking if proof available in folder 1\n",
    "                    try: # Try to move proof file from folder 1 to new folder\n",
    "                        shutil.copy(src1+'\\\\'+proof, dest+'\\\\'+folderName) # Move proof file from folder 1 to new folder\n",
    "                    except shutil.SameFileError: # if proof file already exist\n",
    "                        print('{0} already exist!'.format(proof))\n",
    "                elif proof in src2_proof: # Checking if proof available in folder 1\n",
    "                    try: # Try to move proof file from folder 2 to new folder\n",
    "                        shutil.copy(src2+'\\\\'+proof, dest+'\\\\'+folderName) # Move proof file from folder 2 to new folder\n",
    "                    except shutil.SameFileError: # if proof file already exist\n",
    "                        print('{0} already exist!'.format(proof))\n",
    "    except FileNotFoundError:\n",
    "        break"
   ]
  }
 ],
 "metadata": {
  "kernelspec": {
   "display_name": "Python 3 (ipykernel)",
   "language": "python",
   "name": "python3"
  },
  "language_info": {
   "codemirror_mode": {
    "name": "ipython",
    "version": 3
   },
   "file_extension": ".py",
   "mimetype": "text/x-python",
   "name": "python",
   "nbconvert_exporter": "python",
   "pygments_lexer": "ipython3",
   "version": "3.11.4"
  }
 },
 "nbformat": 4,
 "nbformat_minor": 5
}
