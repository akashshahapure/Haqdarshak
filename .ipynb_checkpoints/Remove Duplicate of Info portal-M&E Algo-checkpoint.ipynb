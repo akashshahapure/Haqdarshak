{
 "cells": [
  {
   "cell_type": "code",
   "execution_count": 4,
   "id": "1c70450f",
   "metadata": {
    "collapsed": false,
    "jupyter": {
     "outputs_hidden": false
    },
    "pycharm": {
     "name": "#%%\n"
    }
   },
   "outputs": [
    {
     "name": "stdout",
     "output_type": "stream",
     "text": [
      "Requirement already satisfied: pandas in c:\\users\\akash\\appdata\\roaming\\python\\python311\\site-packages (2.0.3)\n",
      "Requirement already satisfied: python-dateutil>=2.8.2 in c:\\program files\\python311\\lib\\site-packages (from pandas) (2.8.2)\n",
      "Requirement already satisfied: pytz>=2020.1 in c:\\users\\akash\\appdata\\roaming\\python\\python311\\site-packages (from pandas) (2023.3)\n",
      "Requirement already satisfied: tzdata>=2022.1 in c:\\users\\akash\\appdata\\roaming\\python\\python311\\site-packages (from pandas) (2023.3)\n",
      "Requirement already satisfied: numpy>=1.21.0 in c:\\users\\akash\\appdata\\roaming\\python\\python311\\site-packages (from pandas) (1.25.2)\n",
      "Requirement already satisfied: six>=1.5 in c:\\program files\\python311\\lib\\site-packages (from python-dateutil>=2.8.2->pandas) (1.16.0)\n",
      "Requirement already satisfied: numpy in c:\\users\\akash\\appdata\\roaming\\python\\python311\\site-packages (1.25.2)\n",
      "Requirement already satisfied: openpyxl in c:\\program files\\python311\\lib\\site-packages (3.1.2)\n",
      "Requirement already satisfied: et-xmlfile in c:\\program files\\python311\\lib\\site-packages (from openpyxl) (1.1.0)\n",
      "\n",
      "*****Required libraries imported*****\n"
     ]
    }
   ],
   "source": [
    "! pip install pandas\n",
    "! pip install numpy\n",
    "! pip install openpyxl\n",
    "import pandas as pd, numpy as np\n",
    "import warnings\n",
    "warnings.filterwarnings('ignore')\n",
    "pd.set_option('display.max_columns', None)\n",
    "pd.set_option('display.max_rows', None)\n",
    "print(\"\\n*****Required libraries imported*****\")"
   ]
  },
  {
   "cell_type": "markdown",
   "id": "322a1231-0b81-46fe-a7b0-5d62282e72c2",
   "metadata": {},
   "source": [
    "# Mention project raw data filename below"
   ]
  },
  {
   "cell_type": "code",
   "execution_count": 5,
   "id": "df8b1bf2-6d57-4b67-8e2d-3dafaf322fa6",
   "metadata": {},
   "outputs": [],
   "source": [
    "file_Name = 'cases_report_Tata Power (Maithon Power Ltd)_(All States)_2024-01-15.csv'"
   ]
  },
  {
   "cell_type": "code",
   "execution_count": 6,
   "id": "715f9235-c2e3-4b0e-91a1-20c59ea00048",
   "metadata": {},
   "outputs": [],
   "source": [
    "def csvORexcel():\n",
    "    try:\n",
    "        path = \"C:\\\\Python\\\\read\\\\\"+file_Name\n",
    "        if file_Name.split('.')[-1].startswith('c'):\n",
    "            df = pd.read_csv(path)\n",
    "            return df\n",
    "        elif file_Name.split('.')[-1].startswith('x'):\n",
    "            df = pd.read_excel(path)\n",
    "            return df\n",
    "    except FileNotFoundError:\n",
    "        print(\"The file name {0} has not found\".format(path))\n",
    "\n",
    "fn = file_Name"
   ]
  },
  {
   "cell_type": "code",
   "execution_count": 7,
   "id": "fe0a370c-132a-4494-8073-ea317ebc0f74",
   "metadata": {},
   "outputs": [
    {
     "data": {
      "text/html": [
       "<div>\n",
       "<style scoped>\n",
       "    .dataframe tbody tr th:only-of-type {\n",
       "        vertical-align: middle;\n",
       "    }\n",
       "\n",
       "    .dataframe tbody tr th {\n",
       "        vertical-align: top;\n",
       "    }\n",
       "\n",
       "    .dataframe thead th {\n",
       "        text-align: right;\n",
       "    }\n",
       "</style>\n",
       "<table border=\"1\" class=\"dataframe\">\n",
       "  <thead>\n",
       "    <tr style=\"text-align: right;\">\n",
       "      <th></th>\n",
       "      <th>Case Id</th>\n",
       "      <th>Createdon</th>\n",
       "      <th>Scheme/Doc</th>\n",
       "      <th>Scheme/Doc GUID</th>\n",
       "      <th>Status</th>\n",
       "      <th>Docket Submitted Date</th>\n",
       "      <th>Benefit received Date</th>\n",
       "      <th>Case Organization</th>\n",
       "      <th>Case District</th>\n",
       "      <th>Citizen GUID</th>\n",
       "      <th>Citizen Name</th>\n",
       "      <th>Gender</th>\n",
       "      <th>Mobile</th>\n",
       "      <th>Age</th>\n",
       "      <th>Family GUID</th>\n",
       "      <th>Family Name</th>\n",
       "      <th>HD ID</th>\n",
       "      <th>HD Name</th>\n",
       "      <th>Opsco name</th>\n",
       "    </tr>\n",
       "  </thead>\n",
       "  <tbody>\n",
       "    <tr>\n",
       "      <th>0</th>\n",
       "      <td>EP0286V4</td>\n",
       "      <td>08-Jun-2023</td>\n",
       "      <td>Pradhan Mantri Jan Arogya Yojana (Ayushman Bha...</td>\n",
       "      <td>SH000676</td>\n",
       "      <td>Scheme/Document received</td>\n",
       "      <td>03-Jul-2023</td>\n",
       "      <td>03-Jul-2023</td>\n",
       "      <td>JH - Tata Power (Maithon Power Ltd)</td>\n",
       "      <td>Dhanbad</td>\n",
       "      <td>PN02DE4A</td>\n",
       "      <td>Naba Kishori Murmu</td>\n",
       "      <td>F</td>\n",
       "      <td>8.864059e+09</td>\n",
       "      <td>41.0</td>\n",
       "      <td>PG025APC</td>\n",
       "      <td>Murmu</td>\n",
       "      <td>holodi.hansda</td>\n",
       "      <td>Holodi Hansda</td>\n",
       "      <td>Govind Mahato</td>\n",
       "    </tr>\n",
       "    <tr>\n",
       "      <th>1</th>\n",
       "      <td>EP0286VR</td>\n",
       "      <td>08-Jun-2023</td>\n",
       "      <td>Pradhan Mantri Jan Arogya Yojana (Ayushman Bha...</td>\n",
       "      <td>SH000676</td>\n",
       "      <td>Scheme/Document received</td>\n",
       "      <td>03-Jul-2023</td>\n",
       "      <td>03-Jul-2023</td>\n",
       "      <td>JH - Tata Power (Maithon Power Ltd)</td>\n",
       "      <td>Dhanbad</td>\n",
       "      <td>PN02DE4B</td>\n",
       "      <td>Prakash Hembram</td>\n",
       "      <td>M</td>\n",
       "      <td>8.102040e+09</td>\n",
       "      <td>26.0</td>\n",
       "      <td>PG025APD</td>\n",
       "      <td>Hembram</td>\n",
       "      <td>holodi.hansda</td>\n",
       "      <td>Holodi Hansda</td>\n",
       "      <td>Govind Mahato</td>\n",
       "    </tr>\n",
       "    <tr>\n",
       "      <th>2</th>\n",
       "      <td>EP0286X3</td>\n",
       "      <td>08-Jun-2023</td>\n",
       "      <td>Pradhan Mantri Jan Arogya Yojana (Ayushman Bha...</td>\n",
       "      <td>SH000676</td>\n",
       "      <td>Scheme/Document received</td>\n",
       "      <td>03-Jul-2023</td>\n",
       "      <td>03-Jul-2023</td>\n",
       "      <td>JH - Tata Power (Maithon Power Ltd)</td>\n",
       "      <td>Dhanbad</td>\n",
       "      <td>PN02DJY8</td>\n",
       "      <td>Ful Kumari Hembram</td>\n",
       "      <td>M</td>\n",
       "      <td>9.334427e+09</td>\n",
       "      <td>29.0</td>\n",
       "      <td>PG025GMX</td>\n",
       "      <td>Hembram</td>\n",
       "      <td>holodi.hansda</td>\n",
       "      <td>Holodi Hansda</td>\n",
       "      <td>Govind Mahato</td>\n",
       "    </tr>\n",
       "    <tr>\n",
       "      <th>3</th>\n",
       "      <td>EP0286YB</td>\n",
       "      <td>08-Jun-2023</td>\n",
       "      <td>Pradhan Mantri Jan Arogya Yojana (Ayushman Bha...</td>\n",
       "      <td>SH000676</td>\n",
       "      <td>Data complete</td>\n",
       "      <td>NaN</td>\n",
       "      <td>NaN</td>\n",
       "      <td>JH - Tata Power (Maithon Power Ltd)</td>\n",
       "      <td>Dhanbad</td>\n",
       "      <td>PN02DVBJ</td>\n",
       "      <td>Panmuni Murmu</td>\n",
       "      <td>F</td>\n",
       "      <td>7.857911e+09</td>\n",
       "      <td>35.0</td>\n",
       "      <td>PG025RER</td>\n",
       "      <td>Murmu</td>\n",
       "      <td>holodi.hansda</td>\n",
       "      <td>Holodi Hansda</td>\n",
       "      <td>Govind Mahato</td>\n",
       "    </tr>\n",
       "    <tr>\n",
       "      <th>4</th>\n",
       "      <td>EP0286ZE</td>\n",
       "      <td>08-Jun-2023</td>\n",
       "      <td>Pradhan Mantri Jan Arogya Yojana (Ayushman Bha...</td>\n",
       "      <td>SH000676</td>\n",
       "      <td>Scheme/Document received</td>\n",
       "      <td>03-Jul-2023</td>\n",
       "      <td>03-Jul-2023</td>\n",
       "      <td>JH - Tata Power (Maithon Power Ltd)</td>\n",
       "      <td>Dhanbad</td>\n",
       "      <td>PN02DAQL</td>\n",
       "      <td>Sumitra Hembram</td>\n",
       "      <td>F</td>\n",
       "      <td>7.070539e+09</td>\n",
       "      <td>31.0</td>\n",
       "      <td>PG02581G</td>\n",
       "      <td>Hembram</td>\n",
       "      <td>holodi.hansda</td>\n",
       "      <td>Holodi Hansda</td>\n",
       "      <td>Govind Mahato</td>\n",
       "    </tr>\n",
       "  </tbody>\n",
       "</table>\n",
       "</div>"
      ],
      "text/plain": [
       "    Case Id    Createdon                                         Scheme/Doc  \\\n",
       "0  EP0286V4  08-Jun-2023  Pradhan Mantri Jan Arogya Yojana (Ayushman Bha...   \n",
       "1  EP0286VR  08-Jun-2023  Pradhan Mantri Jan Arogya Yojana (Ayushman Bha...   \n",
       "2  EP0286X3  08-Jun-2023  Pradhan Mantri Jan Arogya Yojana (Ayushman Bha...   \n",
       "3  EP0286YB  08-Jun-2023  Pradhan Mantri Jan Arogya Yojana (Ayushman Bha...   \n",
       "4  EP0286ZE  08-Jun-2023  Pradhan Mantri Jan Arogya Yojana (Ayushman Bha...   \n",
       "\n",
       "  Scheme/Doc GUID                    Status Docket Submitted Date  \\\n",
       "0        SH000676  Scheme/Document received           03-Jul-2023   \n",
       "1        SH000676  Scheme/Document received           03-Jul-2023   \n",
       "2        SH000676  Scheme/Document received           03-Jul-2023   \n",
       "3        SH000676             Data complete                   NaN   \n",
       "4        SH000676  Scheme/Document received           03-Jul-2023   \n",
       "\n",
       "  Benefit received Date                    Case Organization Case District  \\\n",
       "0           03-Jul-2023  JH - Tata Power (Maithon Power Ltd)       Dhanbad   \n",
       "1           03-Jul-2023  JH - Tata Power (Maithon Power Ltd)       Dhanbad   \n",
       "2           03-Jul-2023  JH - Tata Power (Maithon Power Ltd)       Dhanbad   \n",
       "3                   NaN  JH - Tata Power (Maithon Power Ltd)       Dhanbad   \n",
       "4           03-Jul-2023  JH - Tata Power (Maithon Power Ltd)       Dhanbad   \n",
       "\n",
       "  Citizen GUID        Citizen Name Gender        Mobile   Age Family GUID  \\\n",
       "0     PN02DE4A  Naba Kishori Murmu      F  8.864059e+09  41.0    PG025APC   \n",
       "1     PN02DE4B     Prakash Hembram      M  8.102040e+09  26.0    PG025APD   \n",
       "2     PN02DJY8  Ful Kumari Hembram      M  9.334427e+09  29.0    PG025GMX   \n",
       "3     PN02DVBJ       Panmuni Murmu      F  7.857911e+09  35.0    PG025RER   \n",
       "4     PN02DAQL     Sumitra Hembram      F  7.070539e+09  31.0    PG02581G   \n",
       "\n",
       "  Family Name          HD ID        HD Name     Opsco name  \n",
       "0       Murmu  holodi.hansda  Holodi Hansda  Govind Mahato  \n",
       "1     Hembram  holodi.hansda  Holodi Hansda  Govind Mahato  \n",
       "2     Hembram  holodi.hansda  Holodi Hansda  Govind Mahato  \n",
       "3       Murmu  holodi.hansda  Holodi Hansda  Govind Mahato  \n",
       "4     Hembram  holodi.hansda  Holodi Hansda  Govind Mahato  "
      ]
     },
     "execution_count": 7,
     "metadata": {},
     "output_type": "execute_result"
    }
   ],
   "source": [
    "data0 = csvORexcel()\n",
    "data0.head()"
   ]
  },
  {
   "cell_type": "code",
   "execution_count": 8,
   "id": "5b095300-d02e-4548-82d5-f5ca65b29936",
   "metadata": {},
   "outputs": [],
   "source": [
    "states = {'AP':'Andhra Pradesh',\n",
    "'AR':'Arunachal Pradesh',\n",
    "'AS':'Assam',\n",
    "'BR':'Bihar',\n",
    "'BH':'Bihar',\n",
    "'CT':'Chhattisgarh',\n",
    "'CG':'Chhattisgarh',\n",
    "'GA':'Goa',\n",
    "'GJ':'Gujarat',\n",
    "'HR':'Haryana',\n",
    "'HP':'Himachal Pradesh',\n",
    "'JH':'Jharkhand',\n",
    "'KA':'Karnataka',\n",
    "'KL':'Kerala',\n",
    "'MP':'Madhya Pradesh',\n",
    "'MH':'Maharashtra',\n",
    "'MN':'Manipur',\n",
    "'ML':'Meghalaya',\n",
    "'MZ':'Mizoram',\n",
    "'NL':'Nagaland',\n",
    "'OR':'Odisha',\n",
    "'PB':'Punjab',\n",
    "'RJ':'Rajasthan',\n",
    "'SK':'Sikkim',\n",
    "'TN':'Tamil Nadu',\n",
    "'TG':'Telangana',\n",
    "'TR':'Tripura',\n",
    "'UP':'Uttar Pradesh',\n",
    "'UT':'Uttarakhand',\n",
    "'WB':'West Bengal'}"
   ]
  },
  {
   "cell_type": "markdown",
   "id": "f9049c9f-f738-4faa-9afb-b47c94ba3e33",
   "metadata": {},
   "source": [
    "# Data Cleaning"
   ]
  },
  {
   "cell_type": "code",
   "execution_count": 9,
   "id": "d0de78b0-06b2-449b-8c93-9973556aa85e",
   "metadata": {
    "scrolled": true
   },
   "outputs": [
    {
     "name": "stdout",
     "output_type": "stream",
     "text": [
      "<class 'pandas.core.frame.DataFrame'>\n",
      "Index: 12869 entries, 0 to 13152\n",
      "Data columns (total 19 columns):\n",
      " #   Column                 Non-Null Count  Dtype         \n",
      "---  ------                 --------------  -----         \n",
      " 0   Case Id                12869 non-null  object        \n",
      " 1   Createdon              12869 non-null  datetime64[ns]\n",
      " 2   Scheme/Doc             12869 non-null  object        \n",
      " 3   Scheme/Doc GUID        12869 non-null  object        \n",
      " 4   Status                 12869 non-null  object        \n",
      " 5   Docket Submitted Date  11580 non-null  datetime64[ns]\n",
      " 6   Benefit received Date  10006 non-null  datetime64[ns]\n",
      " 7   State                  12869 non-null  object        \n",
      " 8   District               12869 non-null  object        \n",
      " 9   Citizen GUID           12869 non-null  object        \n",
      " 10  Citizen Name           12869 non-null  object        \n",
      " 11  Gender                 12869 non-null  object        \n",
      " 12  Mobile                 12869 non-null  object        \n",
      " 13  Age                    12869 non-null  float64       \n",
      " 14  Family GUID            12869 non-null  object        \n",
      " 15  Family Name            12869 non-null  object        \n",
      " 16  HD ID                  12868 non-null  object        \n",
      " 17  HD Name                12869 non-null  object        \n",
      " 18  Opsco name             12868 non-null  object        \n",
      "dtypes: datetime64[ns](3), float64(1), object(15)\n",
      "memory usage: 2.0+ MB\n"
     ]
    }
   ],
   "source": [
    "# Remove last row.\n",
    "data0.drop(index = data0[data0.Createdon.isna()].index, inplace=True)\n",
    "\n",
    "# Replace null values\n",
    "data0['Scheme/Doc'].fillna('a', inplace=True)\n",
    "data0['Citizen Name'].fillna('a', inplace=True)\n",
    "data0['HD Name'].fillna('blank', inplace=True)\n",
    "data0.Mobile.fillna(0, inplace=True)\n",
    "\n",
    "# Deleting records with status \"Case Aborted\" and \"Application rejected\"\n",
    "data0 = data0[(data0['Status'] != 'Case Aborted') & (data0['Status'] != 'Application rejected')]\n",
    "\n",
    "# Changing status values and keeping only \"Open/Submit/BR\"\n",
    "data0['Status'] = data0['Status'].apply(lambda x: 'Open' if x == 'Data complete' else 'Submitted' if x=='Docket submitted' else \"Benefit Received\" if x=='Scheme/Document received' else x)\n",
    "\n",
    "# Changing Case Organization values from state initials to full state name.\n",
    "data0['Case Organization'] = data0['Case Organization'].apply(lambda x: states[x.split(' ')[0]])\n",
    "\n",
    "# Renaming column \"Case Organiisation\" & \"Case District\" to \"State\" & \"Disctrict\"\n",
    "data0.rename(columns={\"Case Organization\":\"State\",\"Case District\":\"District\"}, inplace=True)\n",
    "\n",
    "# Convert Mobile column from float to string for concatenation.\n",
    "data0['Mobile'] = data0['Mobile'].apply(lambda x: str(x).strip())\n",
    "#data0['Mobile'] = data0['Mobile'].astype('int64')\n",
    "data0['Mobile'] = data0['Mobile'].astype('str')\n",
    "\n",
    "# Change gender from initial letter to full form.\n",
    "data0['Gender'] = data0['Gender'].apply(lambda x: 'Male' if x=='M' else 'Female' if x=='F' else 'Other' if x=='O' else x)\n",
    "\n",
    "# Convert \"Createdon\", \"Docket Submitted Date\", \"Benefit received Date\" column data type to Datetime format\n",
    "dt_col = ['Createdon', 'Docket Submitted Date', 'Benefit received Date', 'DOB']\n",
    "\n",
    "for col in dt_col:\n",
    "    try:\n",
    "        data0[col] = pd.to_datetime(data0[col], format='mixed', errors='ignore')\n",
    "    except KeyError:\n",
    "        continue\n",
    "\n",
    "data0.info()"
   ]
  },
  {
   "cell_type": "markdown",
   "id": "85d6ef02-d493-427e-ad5c-aee8a2abacc1",
   "metadata": {},
   "source": [
    "# Translate local language district name to English"
   ]
  },
  {
   "cell_type": "code",
   "execution_count": 10,
   "id": "d60b8e6a-be8e-4396-9366-a47ed458c5e9",
   "metadata": {},
   "outputs": [
    {
     "data": {
      "text/plain": [
       "District\n",
       "Dhanbad    12869\n",
       "Name: count, dtype: int64"
      ]
     },
     "execution_count": 10,
     "metadata": {},
     "output_type": "execute_result"
    }
   ],
   "source": [
    "# Renaming Case District name from local language to english\n",
    "\n",
    "data0['District'] = data0['District'].apply(lambda x: \"Dohad\" if x==\"દોહદ\" else \"Haridwar\" if x==\"हरिद्वार\" else \"UDHAM SINGH NAGAR\".title() if (x==\"उदम सिंह नगर\" or x==\"Udam Singh Nagar\")\n",
    "                             else \"Sitamarhi\" if x==\"सीतामढ़ी\" else \"Mahasamund\" if (x==\"महासमुंद\" or x==\"Mahasamand\") else \"Rajgarh\" if x==\"राजगढ़\" else \"Muzaffarpur\" if x==\"मुजफ्फरपुर\"\n",
    "                             else \"Nawada\" if x==\"नवादा\" else \"Balrampur\" if x==\"बलरामपुर\" else \"DAMOH\".title() if x==\"दमोह\" else \"Shravasti\" if x==\"श्रावस्ती\"\n",
    "                             else \"NARMADA\".title() if x==\"નર્મદા\" else \"Chhatarpur\" if (x==\"छतरपुर\" or x==\"Chhattarpur\") else 'East Singhbum' if x=='ईस्ट सिंघबम' else 'Chhindwara' if x=='छिंदवारा' \n",
    "                             else 'Jalna' if x=='जालना' else 'Dhule' if x=='धुळे' else \"Dhanbad\" if x==\"धनबाद\" else x.title())\n",
    "\n",
    "# Renaming column \"Case Organiisation\" & \"Case District\" to \"State\" & \"Disctrict\"\n",
    "data0.rename(columns={\"Case Organization\":\"State\",\"Case District\":\"District\"}, inplace=True)\n",
    "\n",
    "data0['District'].value_counts()"
   ]
  },
  {
   "cell_type": "markdown",
   "id": "70f3fb5b-2344-4d16-ae38-6bca5cd073b5",
   "metadata": {},
   "source": [
    "# DFL Schemes\n",
    "\n",
    "- SH0009SW = Digital productivity Service_ Basic\n",
    "- SH000BM6 = Digital productivity Service_Basic\n",
    "- SH000AG6 = Digital Productivity Services_Advanced\n",
    "- SH000A32 = Long Training on Digital & Financial Inclusion_Private\n",
    "- SH0009SW = Short Training on Digital & Financial Inclusion_Private\n",
    "- SH000AG6 = Digital Productivity Services and and employability training_Advanced"
   ]
  },
  {
   "cell_type": "markdown",
   "id": "21236768-2568-413f-b3b0-1ed5055102d2",
   "metadata": {},
   "source": [
    "# Removing DFL data"
   ]
  },
  {
   "cell_type": "code",
   "execution_count": 11,
   "id": "a63191d0-ce3c-4c35-b7e4-f80226ce103a",
   "metadata": {},
   "outputs": [
    {
     "name": "stdout",
     "output_type": "stream",
     "text": [
      "DFL Count=0\n",
      "E-Gov Count=12869\n"
     ]
    }
   ],
   "source": [
    "dfl = data0[(data0['Scheme/Doc GUID'] == 'SH0009SW') | (data0['Scheme/Doc GUID'] == 'SH000AG6') | (data0['Scheme/Doc GUID'] == 'SH000A32') | (data0['Scheme/Doc GUID']=='SH0009SW') | (data0['Scheme/Doc GUID']=='SH000AG6') | (data0['Scheme/Doc GUID']=='SH000BM6')]\n",
    "data0 = data0[(data0['Scheme/Doc GUID'] != 'SH0009SW') & (data0['Scheme/Doc GUID'] != 'SH000AG6') & (data0['Scheme/Doc GUID'] != 'SH000A32') & (data0['Scheme/Doc GUID']!='SH0009SW') & (data0['Scheme/Doc GUID']!='SH000AG6') & (data0['Scheme/Doc GUID']!='SH000BM6')]\n",
    "print(\"DFL Count={0}\\nE-Gov Count={1}\".format(len(dfl),len(data0)))"
   ]
  },
  {
   "cell_type": "code",
   "execution_count": 12,
   "id": "04dd8933-104d-4d6f-9e75-d063576d12c2",
   "metadata": {
    "scrolled": true
   },
   "outputs": [
    {
     "name": "stdout",
     "output_type": "stream",
     "text": [
      "<class 'pandas.core.frame.DataFrame'>\n",
      "Index: 12869 entries, 0 to 13152\n",
      "Data columns (total 19 columns):\n",
      " #   Column                 Non-Null Count  Dtype         \n",
      "---  ------                 --------------  -----         \n",
      " 0   Case Id                12869 non-null  object        \n",
      " 1   Createdon              12869 non-null  datetime64[ns]\n",
      " 2   Scheme/Doc             12869 non-null  object        \n",
      " 3   Scheme/Doc GUID        12869 non-null  object        \n",
      " 4   Status                 12869 non-null  object        \n",
      " 5   Docket Submitted Date  11580 non-null  datetime64[ns]\n",
      " 6   Benefit received Date  10006 non-null  datetime64[ns]\n",
      " 7   State                  12869 non-null  object        \n",
      " 8   District               12869 non-null  object        \n",
      " 9   Citizen GUID           12869 non-null  object        \n",
      " 10  Citizen Name           12869 non-null  object        \n",
      " 11  Gender                 12869 non-null  object        \n",
      " 12  Mobile                 12869 non-null  object        \n",
      " 13  Age                    12869 non-null  float64       \n",
      " 14  Family GUID            12869 non-null  object        \n",
      " 15  Family Name            12869 non-null  object        \n",
      " 16  HD ID                  12868 non-null  object        \n",
      " 17  HD Name                12869 non-null  object        \n",
      " 18  Opsco name             12868 non-null  object        \n",
      "dtypes: datetime64[ns](3), float64(1), object(15)\n",
      "memory usage: 2.0+ MB\n"
     ]
    }
   ],
   "source": [
    "data0.info()"
   ]
  },
  {
   "cell_type": "markdown",
   "id": "872df9f8-1829-48b3-9d1e-820e7c3b06f0",
   "metadata": {},
   "source": [
    "# Duplicate Column"
   ]
  },
  {
   "cell_type": "code",
   "execution_count": 13,
   "id": "84edf59d-1a9b-44a3-8bd9-f6a7f57d1208",
   "metadata": {},
   "outputs": [
    {
     "data": {
      "text/html": [
       "<div>\n",
       "<style scoped>\n",
       "    .dataframe tbody tr th:only-of-type {\n",
       "        vertical-align: middle;\n",
       "    }\n",
       "\n",
       "    .dataframe tbody tr th {\n",
       "        vertical-align: top;\n",
       "    }\n",
       "\n",
       "    .dataframe thead th {\n",
       "        text-align: right;\n",
       "    }\n",
       "</style>\n",
       "<table border=\"1\" class=\"dataframe\">\n",
       "  <thead>\n",
       "    <tr style=\"text-align: right;\">\n",
       "      <th></th>\n",
       "      <th>Case Id</th>\n",
       "      <th>Createdon</th>\n",
       "      <th>Scheme/Doc</th>\n",
       "      <th>Scheme/Doc GUID</th>\n",
       "      <th>Status</th>\n",
       "      <th>Docket Submitted Date</th>\n",
       "      <th>Benefit received Date</th>\n",
       "      <th>State</th>\n",
       "      <th>District</th>\n",
       "      <th>Citizen GUID</th>\n",
       "      <th>Citizen Name</th>\n",
       "      <th>Gender</th>\n",
       "      <th>Mobile</th>\n",
       "      <th>Age</th>\n",
       "      <th>Family GUID</th>\n",
       "      <th>Family Name</th>\n",
       "      <th>HD ID</th>\n",
       "      <th>HD Name</th>\n",
       "      <th>Opsco name</th>\n",
       "      <th>duplicate</th>\n",
       "    </tr>\n",
       "  </thead>\n",
       "  <tbody>\n",
       "    <tr>\n",
       "      <th>0</th>\n",
       "      <td>EP0286V4</td>\n",
       "      <td>2023-06-08</td>\n",
       "      <td>Pradhan Mantri Jan Arogya Yojana (Ayushman Bha...</td>\n",
       "      <td>SH000676</td>\n",
       "      <td>Benefit Received</td>\n",
       "      <td>2023-07-03</td>\n",
       "      <td>2023-07-03</td>\n",
       "      <td>Jharkhand</td>\n",
       "      <td>Dhanbad</td>\n",
       "      <td>PN02DE4A</td>\n",
       "      <td>Naba Kishori Murmu</td>\n",
       "      <td>Female</td>\n",
       "      <td>8864058565.0</td>\n",
       "      <td>41.0</td>\n",
       "      <td>PG025APC</td>\n",
       "      <td>Murmu</td>\n",
       "      <td>holodi.hansda</td>\n",
       "      <td>Holodi Hansda</td>\n",
       "      <td>Govind Mahato</td>\n",
       "      <td>pradhan mantri jan arogya yojana (ayushman bha...</td>\n",
       "    </tr>\n",
       "    <tr>\n",
       "      <th>1</th>\n",
       "      <td>EP0286VR</td>\n",
       "      <td>2023-06-08</td>\n",
       "      <td>Pradhan Mantri Jan Arogya Yojana (Ayushman Bha...</td>\n",
       "      <td>SH000676</td>\n",
       "      <td>Benefit Received</td>\n",
       "      <td>2023-07-03</td>\n",
       "      <td>2023-07-03</td>\n",
       "      <td>Jharkhand</td>\n",
       "      <td>Dhanbad</td>\n",
       "      <td>PN02DE4B</td>\n",
       "      <td>Prakash Hembram</td>\n",
       "      <td>Male</td>\n",
       "      <td>8102039800.0</td>\n",
       "      <td>26.0</td>\n",
       "      <td>PG025APD</td>\n",
       "      <td>Hembram</td>\n",
       "      <td>holodi.hansda</td>\n",
       "      <td>Holodi Hansda</td>\n",
       "      <td>Govind Mahato</td>\n",
       "      <td>pradhan mantri jan arogya yojana (ayushman bha...</td>\n",
       "    </tr>\n",
       "    <tr>\n",
       "      <th>2</th>\n",
       "      <td>EP0286X3</td>\n",
       "      <td>2023-06-08</td>\n",
       "      <td>Pradhan Mantri Jan Arogya Yojana (Ayushman Bha...</td>\n",
       "      <td>SH000676</td>\n",
       "      <td>Benefit Received</td>\n",
       "      <td>2023-07-03</td>\n",
       "      <td>2023-07-03</td>\n",
       "      <td>Jharkhand</td>\n",
       "      <td>Dhanbad</td>\n",
       "      <td>PN02DJY8</td>\n",
       "      <td>Ful Kumari Hembram</td>\n",
       "      <td>Male</td>\n",
       "      <td>9334426575.0</td>\n",
       "      <td>29.0</td>\n",
       "      <td>PG025GMX</td>\n",
       "      <td>Hembram</td>\n",
       "      <td>holodi.hansda</td>\n",
       "      <td>Holodi Hansda</td>\n",
       "      <td>Govind Mahato</td>\n",
       "      <td>pradhan mantri jan arogya yojana (ayushman bha...</td>\n",
       "    </tr>\n",
       "    <tr>\n",
       "      <th>3</th>\n",
       "      <td>EP0286YB</td>\n",
       "      <td>2023-06-08</td>\n",
       "      <td>Pradhan Mantri Jan Arogya Yojana (Ayushman Bha...</td>\n",
       "      <td>SH000676</td>\n",
       "      <td>Open</td>\n",
       "      <td>NaT</td>\n",
       "      <td>NaT</td>\n",
       "      <td>Jharkhand</td>\n",
       "      <td>Dhanbad</td>\n",
       "      <td>PN02DVBJ</td>\n",
       "      <td>Panmuni Murmu</td>\n",
       "      <td>Female</td>\n",
       "      <td>7857910502.0</td>\n",
       "      <td>35.0</td>\n",
       "      <td>PG025RER</td>\n",
       "      <td>Murmu</td>\n",
       "      <td>holodi.hansda</td>\n",
       "      <td>Holodi Hansda</td>\n",
       "      <td>Govind Mahato</td>\n",
       "      <td>pradhan mantri jan arogya yojana (ayushman bha...</td>\n",
       "    </tr>\n",
       "    <tr>\n",
       "      <th>4</th>\n",
       "      <td>EP0286ZE</td>\n",
       "      <td>2023-06-08</td>\n",
       "      <td>Pradhan Mantri Jan Arogya Yojana (Ayushman Bha...</td>\n",
       "      <td>SH000676</td>\n",
       "      <td>Benefit Received</td>\n",
       "      <td>2023-07-03</td>\n",
       "      <td>2023-07-03</td>\n",
       "      <td>Jharkhand</td>\n",
       "      <td>Dhanbad</td>\n",
       "      <td>PN02DAQL</td>\n",
       "      <td>Sumitra Hembram</td>\n",
       "      <td>Female</td>\n",
       "      <td>7070538923.0</td>\n",
       "      <td>31.0</td>\n",
       "      <td>PG02581G</td>\n",
       "      <td>Hembram</td>\n",
       "      <td>holodi.hansda</td>\n",
       "      <td>Holodi Hansda</td>\n",
       "      <td>Govind Mahato</td>\n",
       "      <td>pradhan mantri jan arogya yojana (ayushman bha...</td>\n",
       "    </tr>\n",
       "  </tbody>\n",
       "</table>\n",
       "</div>"
      ],
      "text/plain": [
       "    Case Id  Createdon                                         Scheme/Doc  \\\n",
       "0  EP0286V4 2023-06-08  Pradhan Mantri Jan Arogya Yojana (Ayushman Bha...   \n",
       "1  EP0286VR 2023-06-08  Pradhan Mantri Jan Arogya Yojana (Ayushman Bha...   \n",
       "2  EP0286X3 2023-06-08  Pradhan Mantri Jan Arogya Yojana (Ayushman Bha...   \n",
       "3  EP0286YB 2023-06-08  Pradhan Mantri Jan Arogya Yojana (Ayushman Bha...   \n",
       "4  EP0286ZE 2023-06-08  Pradhan Mantri Jan Arogya Yojana (Ayushman Bha...   \n",
       "\n",
       "  Scheme/Doc GUID            Status Docket Submitted Date  \\\n",
       "0        SH000676  Benefit Received            2023-07-03   \n",
       "1        SH000676  Benefit Received            2023-07-03   \n",
       "2        SH000676  Benefit Received            2023-07-03   \n",
       "3        SH000676              Open                   NaT   \n",
       "4        SH000676  Benefit Received            2023-07-03   \n",
       "\n",
       "  Benefit received Date      State District Citizen GUID        Citizen Name  \\\n",
       "0            2023-07-03  Jharkhand  Dhanbad     PN02DE4A  Naba Kishori Murmu   \n",
       "1            2023-07-03  Jharkhand  Dhanbad     PN02DE4B     Prakash Hembram   \n",
       "2            2023-07-03  Jharkhand  Dhanbad     PN02DJY8  Ful Kumari Hembram   \n",
       "3                   NaT  Jharkhand  Dhanbad     PN02DVBJ       Panmuni Murmu   \n",
       "4            2023-07-03  Jharkhand  Dhanbad     PN02DAQL     Sumitra Hembram   \n",
       "\n",
       "   Gender        Mobile   Age Family GUID Family Name          HD ID  \\\n",
       "0  Female  8864058565.0  41.0    PG025APC       Murmu  holodi.hansda   \n",
       "1    Male  8102039800.0  26.0    PG025APD     Hembram  holodi.hansda   \n",
       "2    Male  9334426575.0  29.0    PG025GMX     Hembram  holodi.hansda   \n",
       "3  Female  7857910502.0  35.0    PG025RER       Murmu  holodi.hansda   \n",
       "4  Female  7070538923.0  31.0    PG02581G     Hembram  holodi.hansda   \n",
       "\n",
       "         HD Name     Opsco name  \\\n",
       "0  Holodi Hansda  Govind Mahato   \n",
       "1  Holodi Hansda  Govind Mahato   \n",
       "2  Holodi Hansda  Govind Mahato   \n",
       "3  Holodi Hansda  Govind Mahato   \n",
       "4  Holodi Hansda  Govind Mahato   \n",
       "\n",
       "                                           duplicate  \n",
       "0  pradhan mantri jan arogya yojana (ayushman bha...  \n",
       "1  pradhan mantri jan arogya yojana (ayushman bha...  \n",
       "2  pradhan mantri jan arogya yojana (ayushman bha...  \n",
       "3  pradhan mantri jan arogya yojana (ayushman bha...  \n",
       "4  pradhan mantri jan arogya yojana (ayushman bha...  "
      ]
     },
     "execution_count": 13,
     "metadata": {},
     "output_type": "execute_result"
    }
   ],
   "source": [
    "# Creating column with name 'duplicate' by concatenation\n",
    "data0['duplicate'] = data0['Scheme/Doc'] + data0['Citizen Name'] + data0['Mobile'] + data0['HD Name'] # Concatenation\n",
    "dfl['duplicate'] = dfl['Scheme/Doc'] + dfl['Citizen Name'] + dfl['Mobile'] + dfl['HD Name'] # Concatenation\n",
    "data0['duplicate'] = data0['duplicate'].apply(lambda x: x.lower()) # Converting duplicate column in lower case because python considers ASCII values of each character while checking for duplicates.\n",
    "dfl['duplicate'] = dfl['duplicate'].apply(lambda x: x.lower())\n",
    "data0.head()"
   ]
  },
  {
   "cell_type": "markdown",
   "id": "3b613d48-1b3c-4928-af8e-e3e16e94ab2a",
   "metadata": {},
   "source": [
    "# Duplicate Data"
   ]
  },
  {
   "cell_type": "code",
   "execution_count": 14,
   "id": "be1fe032-b52b-4c21-9a55-d8ffdc9546f6",
   "metadata": {},
   "outputs": [
    {
     "data": {
      "text/plain": [
       "(72, 20)"
      ]
     },
     "execution_count": 14,
     "metadata": {},
     "output_type": "execute_result"
    }
   ],
   "source": [
    "# Checking number of all duplicate records\n",
    "duplicateData = data0[data0.duplicated(['duplicate'],keep=False)].sort_values('duplicate')\n",
    "dflDuplicates = dfl[dfl.duplicated(['duplicate'],keep=False)].sort_values('duplicate')\n",
    "duplicateData = pd.concat([duplicateData,dflDuplicates], ignore_index=True)\n",
    "duplicateData.reset_index(inplace=True, drop = True)\n",
    "\n",
    "try:\n",
    "    duplicateData.drop(index=duplicateData.index[-1], inplace=True)\n",
    "except IndexError:\n",
    "    print(duplicateData.shape)\n",
    "\n",
    "duplicateData.shape"
   ]
  },
  {
   "cell_type": "markdown",
   "id": "4f2d6cfe-660a-4c1f-948b-b3699c2f9dc3",
   "metadata": {},
   "source": [
    "# Unique Data"
   ]
  },
  {
   "cell_type": "code",
   "execution_count": 15,
   "id": "0816c5f6-c4df-4264-8e6f-341f1d79209d",
   "metadata": {},
   "outputs": [
    {
     "data": {
      "text/plain": [
       "(12831, 20)"
      ]
     },
     "execution_count": 15,
     "metadata": {},
     "output_type": "execute_result"
    }
   ],
   "source": [
    "# Keeping uniques excluding duplicates\n",
    "unique_data = data0.drop(index = data0[data0.duplicated(['duplicate'], keep='last')].index)\n",
    "unique_data.reset_index(inplace=True, drop = True)\n",
    "try:\n",
    "    unique_data.drop(index=unique_data.index[-1], inplace=True)\n",
    "except IndexError:\n",
    "    print(unique_data.shape)\n",
    "\n",
    "unique_data.shape"
   ]
  },
  {
   "cell_type": "code",
   "execution_count": 16,
   "id": "7943fa95-e082-480e-a792-fd63683d0c52",
   "metadata": {},
   "outputs": [
    {
     "name": "stdout",
     "output_type": "stream",
     "text": [
      "Export to Excel Success! Total 72 duplicate records exported.\n"
     ]
    }
   ],
   "source": [
    "# Exporting data of all duplicate records to Excel file.\n",
    "duplicateData.to_excel('C:\\\\Python\\\\export\\\\'+fn.split('.')[0]+'_duplicate.xlsx', index=False)\n",
    "print('Export to Excel Success! Total {0} duplicate records exported.'.format(duplicateData.shape[0]))"
   ]
  },
  {
   "cell_type": "code",
   "execution_count": 17,
   "id": "d1e8fc26-e040-486d-966a-57e31da8c0f8",
   "metadata": {},
   "outputs": [
    {
     "name": "stdout",
     "output_type": "stream",
     "text": [
      "Export to Excel Success! Total 12831 duplicate records exported.\n"
     ]
    }
   ],
   "source": [
    "# Exporting data of all duplicate records to Excel file.\n",
    "unique_data.to_excel('C:\\\\Python\\\\export\\\\'+fn.split('.')[0]+'_unique.xlsx', index=False)\n",
    "print('Export to Excel Success! Total {0} duplicate records exported.'.format(unique_data.shape[0]))"
   ]
  }
 ],
 "metadata": {
  "kernelspec": {
   "display_name": "Python 3 (ipykernel)",
   "language": "python",
   "name": "python3"
  },
  "language_info": {
   "codemirror_mode": {
    "name": "ipython",
    "version": 3
   },
   "file_extension": ".py",
   "mimetype": "text/x-python",
   "name": "python",
   "nbconvert_exporter": "python",
   "pygments_lexer": "ipython3",
   "version": "3.11.4"
  }
 },
 "nbformat": 4,
 "nbformat_minor": 5
}
