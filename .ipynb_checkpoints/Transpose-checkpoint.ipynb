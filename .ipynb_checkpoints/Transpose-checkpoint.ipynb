{
 "cells": [
  {
   "cell_type": "code",
   "execution_count": null,
   "id": "4e725530-545f-4631-afb7-6343ea1bc85e",
   "metadata": {},
   "outputs": [],
   "source": []
  },
  {
   "cell_type": "code",
   "execution_count": 8,
   "id": "845c5445-2029-4878-8101-28789a45f193",
   "metadata": {},
   "outputs": [],
   "source": [
    "import pandas as pd, numpy as np\n",
    "import xlsxwriter, openpyxl\n",
    "from datetime import datetime as dt\n",
    "import warnings\n",
    "warnings.filterwarnings('ignore')\n",
    "pd.set_option('display.max_columns', None)\n",
    "pd.set_option('display.max_rows', None)"
   ]
  },
  {
   "cell_type": "code",
   "execution_count": 9,
   "id": "dfebcb91-3e2e-4292-a4d1-c7fc496bc8d3",
   "metadata": {},
   "outputs": [],
   "source": [
    "def csvORexcel(file_Name):\n",
    "    global path\n",
    "    path = \"C:\\\\Python\\\\read\\\\\"+file_Name\n",
    "    try:\n",
    "        if file_Name.split('.')[-1].startswith('c'):\n",
    "            df = pd.read_csv(path)\n",
    "            return df\n",
    "        elif file_Name.split('.')[-1].startswith('x'):\n",
    "            df = pd.read_excel(path)\n",
    "            return df\n",
    "    except FileNotFoundError:\n",
    "        print(\"The file name {0} has not found\".format(path))"
   ]
  },
  {
   "cell_type": "raw",
   "id": "5b8fbb50-07fc-4df7-9a6b-2a3c1c4dd3e1",
   "metadata": {
    "scrolled": true
   },
   "source": [
    "remove_rows=[]\n",
    "RepresentativeNames = []\n",
    "RepresentativeRoles = []\n",
    "RepresentativeMoNo = []\n",
    "\n",
    "for idx in data1.index:\n",
    "    if data1['RepresentativeNames'][idx] in [np.nan]:\n",
    "        RepresentativeNames.append(data1['RepresentativeNames'][idx])\n",
    "        RepresentativeRoles.append(data1['RepresentativeRoles'][idx])\n",
    "        RepresentativeMoNo.append(data1['RepresentativeMobileNumbers'][idx])\n",
    "    else:\n",
    "        remove_rows.append(idx)\n",
    "        #RepresentativeNames.append(data1['RepresentativeNames'][idx])\n",
    "        #RepresentativeRoles.append(data1['RepresentativeRoles'][idx])\n",
    "        #RepresentativeMoNo.append(data1['RepresentativeMobileNumbers'][idx])\n",
    "        rName = data1['RepresentativeNames'][idx].split(',')\n",
    "        rRole = data1['RepresentativeRoles'][idx].split(',')\n",
    "        rMoNo = data1['RepresentativeMobileNumbers'][idx].split(',')\n",
    "\n",
    "        if len(rRole) < len(rName):\n",
    "            for i in range(len(rName)-len(rRole)):\n",
    "                rRole.append(data1['RepresentativeRoles'][idx].split(',')[-1].strip())\n",
    "        if len(rMoNo) < len(rName):\n",
    "            for i in range(len(rName)-len(rMoNo)):\n",
    "                rMoNo.append(data1['RepresentativeMobileNumbers'][idx].split(',')[-1].strip())\n",
    "        #print('for = ',idx)\n",
    "        for i in range(len(rName)):\n",
    "            if len(rRole) < len(rName):\n",
    "                #print('if = ',idx)\n",
    "                RepresentativeNames.append(rName[i].strip())\n",
    "                RepresentativeRoles.append(rRole[0].strip())\n",
    "                RepresentativeMoNo.append(rMoNo[i].strip())\n",
    "            elif len(rRole) == 2:\n",
    "                #print('elif = ',idx)\n",
    "                if i == 0:\n",
    "                    RepresentativeNames.append(rName[i].strip())\n",
    "                    RepresentativeRoles.append(rRole[0].strip())\n",
    "                    RepresentativeMoNo.append(rMoNo[i].strip())\n",
    "                else:\n",
    "                    RepresentativeNames.append(rName[i].strip())\n",
    "                    RepresentativeRoles.append(rRole[1].strip())\n",
    "                    RepresentativeMoNo.append(rMoNo[i].strip())\n",
    "            else:\n",
    "                #print('else = ',idx)\n",
    "                RepresentativeNames.append(rName[i].strip())\n",
    "                RepresentativeRoles.append(rRole[i].strip())\n",
    "                RepresentativeMoNo.append(rMoNo[i].strip())\n",
    "        #print(idx)\n",
    "        data1 = pd.concat([data1,pd.concat([data1[idx:idx+1]] * len(rName), axis=0, ignore_index=True)],axis=0)\n",
    "        #data1.drop(index=idx,inplace=True)\n",
    "\n",
    "#data1['RepresentativeNames'] = RepresentativeNames\n",
    "#data1['RepresentativeRoles'] = RepresentativeRoles\n",
    "#data1['RepresentativeMobileNumbers'] = RepresentativeMoNo"
   ]
  },
  {
   "cell_type": "code",
   "execution_count": 22,
   "id": "61adace2-cef6-47ab-9df5-f8a8917a81e6",
   "metadata": {},
   "outputs": [],
   "source": [
    "def transposeDFL(df):\n",
    "    remove_rows=[]\n",
    "\n",
    "    for idx in df.index:\n",
    "        if df['RepresentativeNames'][idx] not in [np.nan]:\n",
    "            print(idx)\n",
    "            \n",
    "            remove_rows.append(idx)\n",
    "            rName = df['RepresentativeNames'][idx].split(',')\n",
    "            rRole = df['RepresentativeRoles'][idx].split(',')\n",
    "            rMoNo = df['RepresentativeMobileNumbers'][idx].split(',')\n",
    "    \n",
    "            if len(rRole) > len(rName):\n",
    "                for i in range (len(rRole)-len(rName):\n",
    "                    rRole.pop()\n",
    "            elif len(rMoNo) > len(rName):\n",
    "                for i in range(len(rMoNo)-len(rName)):\n",
    "                    rMoNo.pop()\n",
    "            elif len(rRole) < len(rName):\n",
    "                for i in range(len(rName)-len(rRole)):\n",
    "                    rRole.append(df['RepresentativeRoles'][idx].split(',')[-1].strip())\n",
    "            elif len(rMoNo) < len(rName):\n",
    "                for i in range(len(rName)-len(rMoNo)):\n",
    "                    rMoNo.append(df['RepresentativeMobileNumbers'][idx].split(',')[-1].strip())\n",
    "\n",
    "            temp = pd.concat([df[idx:idx+1]] * len(rName), axis=0,ignore_index=True)\n",
    "            temp['RepresentativeNames'] = rName\n",
    "            temp['RepresentativeRoles'] = rRole\n",
    "            temp['RepresentativeMobileNumbers'] = rMoNo\n",
    "            df = pd.concat([df,temp],axis=0)\n",
    "                \n",
    "    df.drop(index=remove_rows,inplace=True)\n",
    "    return df\n",
    "\n",
    "def export_data(df):\n",
    "    with pd.ExcelWriter('C:\\\\Python\\\\export\\\\transposed_data_'+fn.split('.')[0]+'.xlsx', engine='xlsxwriter', engine_kwargs={'options': {'strings_to_urls': False}}) as writer:\n",
    "        df.to_excel(writer, sheet_name='Transposed Data', index=False)\n",
    "    print('Transposed Data has been exported to below location:\\n','C:\\\\Python\\\\export\\\\transposed_data_'+fn.split('.')[0]+'.xlsx')"
   ]
  },
  {
   "cell_type": "code",
   "execution_count": 21,
   "id": "4dc819f1-b858-44ea-94bd-b5b2882526de",
   "metadata": {},
   "outputs": [
    {
     "data": {
      "text/plain": [
       "True"
      ]
     },
     "execution_count": 21,
     "metadata": {},
     "output_type": "execute_result"
    }
   ],
   "source": [
    "data0['RepresentativeNames'][8479] not in [np.nan]\n"
   ]
  },
  {
   "cell_type": "code",
   "execution_count": 23,
   "id": "8102de9a-f137-4b28-a080-1d19227356a7",
   "metadata": {},
   "outputs": [
    {
     "name": "stdin",
     "output_type": "stream",
     "text": [
      "Please provide file name =  weekly DFL - 5 to 11 Jan - akash.xlsx\n"
     ]
    },
    {
     "name": "stdout",
     "output_type": "stream",
     "text": [
      "Transposing data of  weekly DFL - 5 to 11 Jan - akash.xlsx\n",
      "Length of values (3) does not match length of index (2)  @  8411\n",
      "Exporting transposed data of  weekly DFL - 5 to 11 Jan - akash.xlsx\n",
      "Transposed Data has been exported to below location:\n",
      " C:\\Python\\export\\transposed_data_weekly DFL - 5 to 11 Jan - akash.xlsx\n"
     ]
    }
   ],
   "source": [
    "file_Name = input('Please provide file name = ')\n",
    "data0 = csvORexcel(file_Name)\n",
    "fn = file_Name\n",
    "print('Transposing data of ',fn)\n",
    "transposed_data = transposeDFL(data0)\n",
    "print('Exporting transposed data of ',fn)\n",
    "export_data(transposed_data)"
   ]
  },
  {
   "cell_type": "code",
   "execution_count": null,
   "id": "325e54dd-0502-4fb6-84ba-34010dae7b76",
   "metadata": {},
   "outputs": [],
   "source": []
  }
 ],
 "metadata": {
  "kernelspec": {
   "display_name": "Python 3 (ipykernel)",
   "language": "python",
   "name": "python3"
  },
  "language_info": {
   "codemirror_mode": {
    "name": "ipython",
    "version": 3
   },
   "file_extension": ".py",
   "mimetype": "text/x-python",
   "name": "python",
   "nbconvert_exporter": "python",
   "pygments_lexer": "ipython3",
   "version": "3.11.4"
  }
 },
 "nbformat": 4,
 "nbformat_minor": 5
}
