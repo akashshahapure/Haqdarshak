{
 "cells": [
  {
   "cell_type": "code",
   "execution_count": 1,
   "metadata": {
    "id": "j-7WPdeB-qOV"
   },
   "outputs": [
    {
     "name": "stdout",
     "output_type": "stream",
     "text": [
      "Defaulting to user installation because normal site-packages is not writeable\n",
      "Requirement already satisfied: googletrans==3.1.0a0 in c:\\users\\akash\\appdata\\roaming\\python\\python311\\site-packages (3.1.0a0)\n",
      "Requirement already satisfied: httpx==0.13.3 in c:\\users\\akash\\appdata\\roaming\\python\\python311\\site-packages (from googletrans==3.1.0a0) (0.13.3)\n",
      "Requirement already satisfied: certifi in c:\\program files\\python311\\lib\\site-packages (from httpx==0.13.3->googletrans==3.1.0a0) (2023.7.22)\n",
      "Requirement already satisfied: hstspreload in c:\\program files\\python311\\lib\\site-packages (from httpx==0.13.3->googletrans==3.1.0a0) (2023.1.1)\n",
      "Requirement already satisfied: sniffio in c:\\program files\\python311\\lib\\site-packages (from httpx==0.13.3->googletrans==3.1.0a0) (1.3.0)\n",
      "Requirement already satisfied: chardet==3.* in c:\\program files\\python311\\lib\\site-packages (from httpx==0.13.3->googletrans==3.1.0a0) (3.0.4)\n",
      "Requirement already satisfied: idna==2.* in c:\\program files\\python311\\lib\\site-packages (from httpx==0.13.3->googletrans==3.1.0a0) (2.10)\n",
      "Requirement already satisfied: rfc3986<2,>=1.3 in c:\\program files\\python311\\lib\\site-packages (from httpx==0.13.3->googletrans==3.1.0a0) (1.5.0)\n",
      "Requirement already satisfied: httpcore==0.9.* in c:\\users\\akash\\appdata\\roaming\\python\\python311\\site-packages (from httpx==0.13.3->googletrans==3.1.0a0) (0.9.1)\n",
      "Requirement already satisfied: h11<0.10,>=0.8 in c:\\users\\akash\\appdata\\roaming\\python\\python311\\site-packages (from httpcore==0.9.*->httpx==0.13.3->googletrans==3.1.0a0) (0.9.0)\n",
      "Requirement already satisfied: h2==3.* in c:\\program files\\python311\\lib\\site-packages (from httpcore==0.9.*->httpx==0.13.3->googletrans==3.1.0a0) (3.2.0)\n",
      "Requirement already satisfied: hyperframe<6,>=5.2.0 in c:\\program files\\python311\\lib\\site-packages (from h2==3.*->httpcore==0.9.*->httpx==0.13.3->googletrans==3.1.0a0) (5.2.0)\n",
      "Requirement already satisfied: hpack<4,>=3.0 in c:\\program files\\python311\\lib\\site-packages (from h2==3.*->httpcore==0.9.*->httpx==0.13.3->googletrans==3.1.0a0) (3.0.0)\n"
     ]
    },
    {
     "name": "stderr",
     "output_type": "stream",
     "text": [
      "DEPRECATION: omegaconf 2.0.6 has a non-standard dependency specifier PyYAML>=5.1.*. pip 24.1 will enforce this behaviour change. A possible replacement is to upgrade to a newer version of omegaconf or contact the author to suggest that they release a version with a conforming dependency specifiers. Discussion can be found at https://github.com/pypa/pip/issues/12063\n"
     ]
    },
    {
     "name": "stdout",
     "output_type": "stream",
     "text": [
      "Defaulting to user installation because normal site-packages is not writeable\n",
      "Requirement already satisfied: langdetect in c:\\users\\akash\\appdata\\roaming\\python\\python311\\site-packages (1.0.9)\n",
      "Requirement already satisfied: six in c:\\program files\\python311\\lib\\site-packages (from langdetect) (1.16.0)\n"
     ]
    },
    {
     "name": "stderr",
     "output_type": "stream",
     "text": [
      "DEPRECATION: omegaconf 2.0.6 has a non-standard dependency specifier PyYAML>=5.1.*. pip 24.1 will enforce this behaviour change. A possible replacement is to upgrade to a newer version of omegaconf or contact the author to suggest that they release a version with a conforming dependency specifiers. Discussion can be found at https://github.com/pypa/pip/issues/12063\n"
     ]
    },
    {
     "name": "stdout",
     "output_type": "stream",
     "text": [
      "Defaulting to user installation because normal site-packages is not writeable\n",
      "Requirement already satisfied: ai4bharat-transliteration in c:\\users\\akash\\appdata\\roaming\\python\\python311\\site-packages (1.1.3)\n",
      "Requirement already satisfied: pydload in c:\\users\\akash\\appdata\\roaming\\python\\python311\\site-packages (from ai4bharat-transliteration) (1.0.9)\n",
      "Requirement already satisfied: flask in c:\\users\\akash\\appdata\\roaming\\python\\python311\\site-packages (from ai4bharat-transliteration) (3.0.3)\n",
      "Requirement already satisfied: flask-cors in c:\\users\\akash\\appdata\\roaming\\python\\python311\\site-packages (from ai4bharat-transliteration) (4.0.0)\n",
      "Requirement already satisfied: gevent in c:\\users\\akash\\appdata\\roaming\\python\\python311\\site-packages (from ai4bharat-transliteration) (24.2.1)\n",
      "Requirement already satisfied: sacremoses in c:\\users\\akash\\appdata\\roaming\\python\\python311\\site-packages (from ai4bharat-transliteration) (0.1.1)\n",
      "Requirement already satisfied: pandas in c:\\users\\akash\\appdata\\roaming\\python\\python311\\site-packages (from ai4bharat-transliteration) (2.0.3)\n",
      "Requirement already satisfied: tqdm in c:\\users\\akash\\appdata\\roaming\\python\\python311\\site-packages (from ai4bharat-transliteration) (4.66.2)\n",
      "Requirement already satisfied: ujson in c:\\users\\akash\\appdata\\roaming\\python\\python311\\site-packages (from ai4bharat-transliteration) (5.9.0)\n",
      "Requirement already satisfied: mock in c:\\users\\akash\\appdata\\roaming\\python\\python311\\site-packages (from ai4bharat-transliteration) (5.1.0)\n",
      "Requirement already satisfied: tensorboardX in c:\\users\\akash\\appdata\\roaming\\python\\python311\\site-packages (from ai4bharat-transliteration) (2.6.2.2)\n",
      "Requirement already satisfied: pyarrow in c:\\users\\akash\\appdata\\roaming\\python\\python311\\site-packages (from ai4bharat-transliteration) (16.0.0)\n",
      "Requirement already satisfied: fairseq in c:\\users\\akash\\appdata\\roaming\\python\\python311\\site-packages (from ai4bharat-transliteration) (0.12.2)\n",
      "Requirement already satisfied: urduhack in c:\\users\\akash\\appdata\\roaming\\python\\python311\\site-packages (from ai4bharat-transliteration) (0.1.4)\n",
      "Requirement already satisfied: indic-nlp-library in c:\\users\\akash\\appdata\\roaming\\python\\python311\\site-packages (from ai4bharat-transliteration) (0.92)\n",
      "Requirement already satisfied: cffi in c:\\program files\\python311\\lib\\site-packages (from fairseq->ai4bharat-transliteration) (1.15.1)\n",
      "Requirement already satisfied: cython in c:\\users\\akash\\appdata\\roaming\\python\\python311\\site-packages (from fairseq->ai4bharat-transliteration) (3.0.10)\n",
      "Requirement already satisfied: hydra-core<1.1,>=1.0.7 in c:\\users\\akash\\appdata\\roaming\\python\\python311\\site-packages (from fairseq->ai4bharat-transliteration) (1.0.7)\n",
      "Requirement already satisfied: omegaconf<2.1 in c:\\users\\akash\\appdata\\roaming\\python\\python311\\site-packages (from fairseq->ai4bharat-transliteration) (2.0.6)\n",
      "Requirement already satisfied: regex in c:\\users\\akash\\appdata\\roaming\\python\\python311\\site-packages (from fairseq->ai4bharat-transliteration) (2024.4.28)\n",
      "Requirement already satisfied: sacrebleu>=1.4.12 in c:\\users\\akash\\appdata\\roaming\\python\\python311\\site-packages (from fairseq->ai4bharat-transliteration) (2.4.2)\n",
      "Requirement already satisfied: torch in c:\\users\\akash\\appdata\\roaming\\python\\python311\\site-packages (from fairseq->ai4bharat-transliteration) (2.3.0)\n",
      "Requirement already satisfied: bitarray in c:\\users\\akash\\appdata\\roaming\\python\\python311\\site-packages (from fairseq->ai4bharat-transliteration) (2.9.2)\n",
      "Requirement already satisfied: torchaudio>=0.8.0 in c:\\users\\akash\\appdata\\roaming\\python\\python311\\site-packages (from fairseq->ai4bharat-transliteration) (2.3.0)\n",
      "Requirement already satisfied: numpy in c:\\users\\akash\\appdata\\roaming\\python\\python311\\site-packages (from fairseq->ai4bharat-transliteration) (1.25.2)\n",
      "Requirement already satisfied: Werkzeug>=3.0.0 in c:\\users\\akash\\appdata\\roaming\\python\\python311\\site-packages (from flask->ai4bharat-transliteration) (3.0.2)\n",
      "Requirement already satisfied: Jinja2>=3.1.2 in c:\\program files\\python311\\lib\\site-packages (from flask->ai4bharat-transliteration) (3.1.2)\n",
      "Requirement already satisfied: itsdangerous>=2.1.2 in c:\\users\\akash\\appdata\\roaming\\python\\python311\\site-packages (from flask->ai4bharat-transliteration) (2.2.0)\n",
      "Requirement already satisfied: click>=8.1.3 in c:\\program files\\python311\\lib\\site-packages (from flask->ai4bharat-transliteration) (8.1.7)\n",
      "Requirement already satisfied: blinker>=1.6.2 in c:\\users\\akash\\appdata\\roaming\\python\\python311\\site-packages (from flask->ai4bharat-transliteration) (1.8.1)\n",
      "Requirement already satisfied: zope.event in c:\\users\\akash\\appdata\\roaming\\python\\python311\\site-packages (from gevent->ai4bharat-transliteration) (5.0)\n",
      "Requirement already satisfied: zope.interface in c:\\users\\akash\\appdata\\roaming\\python\\python311\\site-packages (from gevent->ai4bharat-transliteration) (6.3)\n",
      "Requirement already satisfied: greenlet>=3.0rc3 in c:\\users\\akash\\appdata\\roaming\\python\\python311\\site-packages (from gevent->ai4bharat-transliteration) (3.0.3)\n",
      "Requirement already satisfied: sphinx-argparse in c:\\users\\akash\\appdata\\roaming\\python\\python311\\site-packages (from indic-nlp-library->ai4bharat-transliteration) (0.4.0)\n",
      "Requirement already satisfied: sphinx-rtd-theme in c:\\users\\akash\\appdata\\roaming\\python\\python311\\site-packages (from indic-nlp-library->ai4bharat-transliteration) (2.0.0)\n",
      "Requirement already satisfied: morfessor in c:\\users\\akash\\appdata\\roaming\\python\\python311\\site-packages (from indic-nlp-library->ai4bharat-transliteration) (2.0.6)\n",
      "Requirement already satisfied: python-dateutil>=2.8.2 in c:\\program files\\python311\\lib\\site-packages (from pandas->ai4bharat-transliteration) (2.8.2)\n",
      "Requirement already satisfied: pytz>=2020.1 in c:\\users\\akash\\appdata\\roaming\\python\\python311\\site-packages (from pandas->ai4bharat-transliteration) (2023.3)\n",
      "Requirement already satisfied: tzdata>=2022.1 in c:\\users\\akash\\appdata\\roaming\\python\\python311\\site-packages (from pandas->ai4bharat-transliteration) (2023.3)\n",
      "Requirement already satisfied: progressbar2 in c:\\users\\akash\\appdata\\roaming\\python\\python311\\site-packages (from pydload->ai4bharat-transliteration) (4.4.2)\n",
      "Requirement already satisfied: requests in c:\\program files\\python311\\lib\\site-packages (from pydload->ai4bharat-transliteration) (2.31.0)\n",
      "Requirement already satisfied: joblib in c:\\users\\akash\\appdata\\roaming\\python\\python311\\site-packages (from sacremoses->ai4bharat-transliteration) (1.4.0)\n",
      "Requirement already satisfied: packaging in c:\\program files\\python311\\lib\\site-packages (from tensorboardX->ai4bharat-transliteration) (23.1)\n",
      "Requirement already satisfied: protobuf>=3.20 in c:\\users\\akash\\appdata\\roaming\\python\\python311\\site-packages (from tensorboardX->ai4bharat-transliteration) (5.26.1)\n",
      "Requirement already satisfied: colorama in c:\\program files\\python311\\lib\\site-packages (from tqdm->ai4bharat-transliteration) (0.4.6)\n",
      "Requirement already satisfied: pycparser in c:\\program files\\python311\\lib\\site-packages (from cffi->fairseq->ai4bharat-transliteration) (2.21)\n",
      "Requirement already satisfied: antlr4-python3-runtime==4.8 in c:\\users\\akash\\appdata\\roaming\\python\\python311\\site-packages (from hydra-core<1.1,>=1.0.7->fairseq->ai4bharat-transliteration) (4.8)\n",
      "Requirement already satisfied: MarkupSafe>=2.0 in c:\\program files\\python311\\lib\\site-packages (from Jinja2>=3.1.2->flask->ai4bharat-transliteration) (2.1.3)\n",
      "Requirement already satisfied: PyYAML>=5.1.* in c:\\program files\\python311\\lib\\site-packages (from omegaconf<2.1->fairseq->ai4bharat-transliteration) (6.0.1)\n",
      "Requirement already satisfied: typing-extensions in c:\\users\\akash\\appdata\\roaming\\python\\python311\\site-packages (from omegaconf<2.1->fairseq->ai4bharat-transliteration) (4.11.0)\n",
      "Requirement already satisfied: six>=1.5 in c:\\program files\\python311\\lib\\site-packages (from python-dateutil>=2.8.2->pandas->ai4bharat-transliteration) (1.16.0)\n",
      "Requirement already satisfied: portalocker in c:\\users\\akash\\appdata\\roaming\\python\\python311\\site-packages (from sacrebleu>=1.4.12->fairseq->ai4bharat-transliteration) (2.8.2)\n",
      "Requirement already satisfied: tabulate>=0.8.9 in c:\\users\\akash\\appdata\\roaming\\python\\python311\\site-packages (from sacrebleu>=1.4.12->fairseq->ai4bharat-transliteration) (0.9.0)\n",
      "Requirement already satisfied: lxml in c:\\program files\\python311\\lib\\site-packages (from sacrebleu>=1.4.12->fairseq->ai4bharat-transliteration) (4.9.3)\n",
      "Requirement already satisfied: filelock in c:\\users\\akash\\appdata\\roaming\\python\\python311\\site-packages (from torch->fairseq->ai4bharat-transliteration) (3.14.0)\n",
      "Requirement already satisfied: sympy in c:\\users\\akash\\appdata\\roaming\\python\\python311\\site-packages (from torch->fairseq->ai4bharat-transliteration) (1.12)\n",
      "Requirement already satisfied: networkx in c:\\users\\akash\\appdata\\roaming\\python\\python311\\site-packages (from torch->fairseq->ai4bharat-transliteration) (3.3)\n",
      "Requirement already satisfied: fsspec in c:\\users\\akash\\appdata\\roaming\\python\\python311\\site-packages (from torch->fairseq->ai4bharat-transliteration) (2024.3.1)\n",
      "Requirement already satisfied: mkl<=2021.4.0,>=2021.1.1 in c:\\users\\akash\\appdata\\roaming\\python\\python311\\site-packages (from torch->fairseq->ai4bharat-transliteration) (2021.4.0)\n",
      "Requirement already satisfied: python-utils>=3.8.1 in c:\\users\\akash\\appdata\\roaming\\python\\python311\\site-packages (from progressbar2->pydload->ai4bharat-transliteration) (3.8.2)\n",
      "Requirement already satisfied: charset-normalizer<4,>=2 in c:\\program files\\python311\\lib\\site-packages (from requests->pydload->ai4bharat-transliteration) (3.2.0)\n",
      "Requirement already satisfied: idna<4,>=2.5 in c:\\program files\\python311\\lib\\site-packages (from requests->pydload->ai4bharat-transliteration) (2.10)\n",
      "Requirement already satisfied: urllib3<3,>=1.21.1 in c:\\program files\\python311\\lib\\site-packages (from requests->pydload->ai4bharat-transliteration) (2.0.4)\n",
      "Requirement already satisfied: certifi>=2017.4.17 in c:\\program files\\python311\\lib\\site-packages (from requests->pydload->ai4bharat-transliteration) (2023.7.22)\n",
      "Requirement already satisfied: sphinx>=1.2.0 in c:\\users\\akash\\appdata\\roaming\\python\\python311\\site-packages (from sphinx-argparse->indic-nlp-library->ai4bharat-transliteration) (7.3.7)\n",
      "Requirement already satisfied: docutils<0.21 in c:\\users\\akash\\appdata\\roaming\\python\\python311\\site-packages (from sphinx-rtd-theme->indic-nlp-library->ai4bharat-transliteration) (0.20.1)\n",
      "Requirement already satisfied: sphinxcontrib-jquery<5,>=4 in c:\\users\\akash\\appdata\\roaming\\python\\python311\\site-packages (from sphinx-rtd-theme->indic-nlp-library->ai4bharat-transliteration) (4.1)\n",
      "Requirement already satisfied: setuptools in c:\\program files\\python311\\lib\\site-packages (from zope.event->gevent->ai4bharat-transliteration) (68.0.0)\n",
      "Requirement already satisfied: intel-openmp==2021.* in c:\\users\\akash\\appdata\\roaming\\python\\python311\\site-packages (from mkl<=2021.4.0,>=2021.1.1->torch->fairseq->ai4bharat-transliteration) (2021.4.0)\n",
      "Requirement already satisfied: tbb==2021.* in c:\\users\\akash\\appdata\\roaming\\python\\python311\\site-packages (from mkl<=2021.4.0,>=2021.1.1->torch->fairseq->ai4bharat-transliteration) (2021.12.0)\n",
      "Requirement already satisfied: sphinxcontrib-applehelp in c:\\users\\akash\\appdata\\roaming\\python\\python311\\site-packages (from sphinx>=1.2.0->sphinx-argparse->indic-nlp-library->ai4bharat-transliteration) (1.0.8)\n",
      "Requirement already satisfied: sphinxcontrib-devhelp in c:\\users\\akash\\appdata\\roaming\\python\\python311\\site-packages (from sphinx>=1.2.0->sphinx-argparse->indic-nlp-library->ai4bharat-transliteration) (1.0.6)\n",
      "Requirement already satisfied: sphinxcontrib-jsmath in c:\\users\\akash\\appdata\\roaming\\python\\python311\\site-packages (from sphinx>=1.2.0->sphinx-argparse->indic-nlp-library->ai4bharat-transliteration) (1.0.1)\n",
      "Requirement already satisfied: sphinxcontrib-htmlhelp>=2.0.0 in c:\\users\\akash\\appdata\\roaming\\python\\python311\\site-packages (from sphinx>=1.2.0->sphinx-argparse->indic-nlp-library->ai4bharat-transliteration) (2.0.5)\n",
      "Requirement already satisfied: sphinxcontrib-serializinghtml>=1.1.9 in c:\\users\\akash\\appdata\\roaming\\python\\python311\\site-packages (from sphinx>=1.2.0->sphinx-argparse->indic-nlp-library->ai4bharat-transliteration) (1.1.10)\n",
      "Requirement already satisfied: sphinxcontrib-qthelp in c:\\users\\akash\\appdata\\roaming\\python\\python311\\site-packages (from sphinx>=1.2.0->sphinx-argparse->indic-nlp-library->ai4bharat-transliteration) (1.0.7)\n",
      "Requirement already satisfied: Pygments>=2.14 in c:\\program files\\python311\\lib\\site-packages (from sphinx>=1.2.0->sphinx-argparse->indic-nlp-library->ai4bharat-transliteration) (2.15.1)\n",
      "Requirement already satisfied: snowballstemmer>=2.0 in c:\\users\\akash\\appdata\\roaming\\python\\python311\\site-packages (from sphinx>=1.2.0->sphinx-argparse->indic-nlp-library->ai4bharat-transliteration) (2.2.0)\n",
      "Requirement already satisfied: babel>=2.9 in c:\\program files\\python311\\lib\\site-packages (from sphinx>=1.2.0->sphinx-argparse->indic-nlp-library->ai4bharat-transliteration) (2.12.1)\n",
      "Requirement already satisfied: alabaster~=0.7.14 in c:\\users\\akash\\appdata\\roaming\\python\\python311\\site-packages (from sphinx>=1.2.0->sphinx-argparse->indic-nlp-library->ai4bharat-transliteration) (0.7.16)\n",
      "Requirement already satisfied: imagesize>=1.3 in c:\\users\\akash\\appdata\\roaming\\python\\python311\\site-packages (from sphinx>=1.2.0->sphinx-argparse->indic-nlp-library->ai4bharat-transliteration) (1.4.1)\n",
      "Requirement already satisfied: pywin32>=226 in c:\\program files\\python311\\lib\\site-packages (from portalocker->sacrebleu>=1.4.12->fairseq->ai4bharat-transliteration) (306)\n",
      "Requirement already satisfied: mpmath>=0.19 in c:\\users\\akash\\appdata\\roaming\\python\\python311\\site-packages (from sympy->torch->fairseq->ai4bharat-transliteration) (1.3.0)\n"
     ]
    },
    {
     "name": "stderr",
     "output_type": "stream",
     "text": [
      "DEPRECATION: omegaconf 2.0.6 has a non-standard dependency specifier PyYAML>=5.1.*. pip 24.1 will enforce this behaviour change. A possible replacement is to upgrade to a newer version of omegaconf or contact the author to suggest that they release a version with a conforming dependency specifiers. Discussion can be found at https://github.com/pypa/pip/issues/12063\n"
     ]
    },
    {
     "name": "stdout",
     "output_type": "stream",
     "text": [
      "Required Libraries Imported\n"
     ]
    }
   ],
   "source": [
    "!pip install googletrans==3.1.0a0\n",
    "!pip install langdetect\n",
    "!pip install ai4bharat-transliteration\n",
    "from googletrans import Translator\n",
    "from langdetect import detect\n",
    "from ai4bharat.transliteration import XlitEngine\n",
    "import os\n",
    "import pandas as pd, numpy as np\n",
    "print('Required Libraries Imported')"
   ]
  },
  {
   "cell_type": "code",
   "execution_count": 2,
   "metadata": {
    "id": "s-bSDPQO-oUw"
   },
   "outputs": [
    {
     "name": "stdout",
     "output_type": "stream",
     "text": [
      "hi\n",
      "Initializing Multilingual model for transliteration\n"
     ]
    },
    {
     "ename": "OSError",
     "evalue": "[WinError 126] The specified module could not be found. Error loading \"C:\\Users\\akash\\AppData\\Roaming\\Python\\Python311\\site-packages\\torch\\lib\\shm.dll\" or one of its dependencies.",
     "output_type": "error",
     "traceback": [
      "\u001b[1;31m---------------------------------------------------------------------------\u001b[0m",
      "\u001b[1;31mOSError\u001b[0m                                   Traceback (most recent call last)",
      "Cell \u001b[1;32mIn[2], line 6\u001b[0m\n\u001b[0;32m      3\u001b[0m translation \u001b[38;5;241m=\u001b[39m translator\u001b[38;5;241m.\u001b[39mdetect(text)\n\u001b[0;32m      4\u001b[0m \u001b[38;5;28mprint\u001b[39m(translation\u001b[38;5;241m.\u001b[39mlang)\n\u001b[1;32m----> 6\u001b[0m e \u001b[38;5;241m=\u001b[39m \u001b[43mXlitEngine\u001b[49m\u001b[43m(\u001b[49m\u001b[43msrc_script_type\u001b[49m\u001b[38;5;241;43m=\u001b[39;49m\u001b[38;5;124;43m\"\u001b[39;49m\u001b[38;5;124;43mindic\u001b[39;49m\u001b[38;5;124;43m\"\u001b[39;49m\u001b[43m,\u001b[49m\u001b[43m \u001b[49m\u001b[43mbeam_width\u001b[49m\u001b[38;5;241;43m=\u001b[39;49m\u001b[38;5;241;43m10\u001b[39;49m\u001b[43m,\u001b[49m\u001b[43m \u001b[49m\u001b[43mrescore\u001b[49m\u001b[38;5;241;43m=\u001b[39;49m\u001b[38;5;28;43;01mFalse\u001b[39;49;00m\u001b[43m)\u001b[49m\n\u001b[0;32m      7\u001b[0m out \u001b[38;5;241m=\u001b[39m e\u001b[38;5;241m.\u001b[39mtranslit_sentence(text, lang_code\u001b[38;5;241m=\u001b[39mtranslation\u001b[38;5;241m.\u001b[39mlang)\n\u001b[0;32m      8\u001b[0m \u001b[38;5;28mprint\u001b[39m(out)\n",
      "File \u001b[1;32m~\\AppData\\Roaming\\Python\\Python311\\site-packages\\ai4bharat\\transliteration\\xlit_src.py:12\u001b[0m, in \u001b[0;36mXlitEngine\u001b[1;34m(lang2use, beam_width, rescore, model_type, src_script_type)\u001b[0m\n\u001b[0;32m     10\u001b[0m     \u001b[38;5;28;01melif\u001b[39;00m src_script_type \u001b[38;5;241m==\u001b[39m \u001b[38;5;124m\"\u001b[39m\u001b[38;5;124mindic\u001b[39m\u001b[38;5;124m\"\u001b[39m:\n\u001b[0;32m     11\u001b[0m         \u001b[38;5;28;01mfrom\u001b[39;00m \u001b[38;5;21;01m.\u001b[39;00m\u001b[38;5;21;01mtransformer\u001b[39;00m \u001b[38;5;28;01mimport\u001b[39;00m XlitEngineTransformer_Indic2En\n\u001b[1;32m---> 12\u001b[0m         \u001b[38;5;28;01mreturn\u001b[39;00m \u001b[43mXlitEngineTransformer_Indic2En\u001b[49m\u001b[43m(\u001b[49m\u001b[43mbeam_width\u001b[49m\u001b[38;5;241;43m=\u001b[39;49m\u001b[43mbeam_width\u001b[49m\u001b[43m,\u001b[49m\u001b[43m \u001b[49m\u001b[43mrescore\u001b[49m\u001b[38;5;241;43m=\u001b[39;49m\u001b[43mrescore\u001b[49m\u001b[43m)\u001b[49m\n\u001b[0;32m     14\u001b[0m \u001b[38;5;28;01melif\u001b[39;00m model_type \u001b[38;5;241m==\u001b[39m \u001b[38;5;124m\"\u001b[39m\u001b[38;5;124mrnn\u001b[39m\u001b[38;5;124m\"\u001b[39m:\n\u001b[0;32m     15\u001b[0m     \u001b[38;5;28;01massert\u001b[39;00m src_script_type \u001b[38;5;129;01min\u001b[39;00m {\u001b[38;5;124m\"\u001b[39m\u001b[38;5;124mroman\u001b[39m\u001b[38;5;124m\"\u001b[39m, \u001b[38;5;124m\"\u001b[39m\u001b[38;5;124mlatin\u001b[39m\u001b[38;5;124m\"\u001b[39m, \u001b[38;5;124m\"\u001b[39m\u001b[38;5;124men\u001b[39m\u001b[38;5;124m\"\u001b[39m}\n",
      "File \u001b[1;32m~\\AppData\\Roaming\\Python\\Python311\\site-packages\\ai4bharat\\transliteration\\transformer\\indic2en.py:60\u001b[0m, in \u001b[0;36mXlitEngineTransformer_Indic2En.__init__\u001b[1;34m(self, beam_width, rescore)\u001b[0m\n\u001b[0;32m     57\u001b[0m \u001b[38;5;28;01melse\u001b[39;00m:\n\u001b[0;32m     58\u001b[0m     dicts_folder \u001b[38;5;241m=\u001b[39m \u001b[38;5;28;01mNone\u001b[39;00m\n\u001b[1;32m---> 60\u001b[0m \u001b[38;5;28;43msuper\u001b[39;49m\u001b[43m(\u001b[49m\u001b[43m)\u001b[49m\u001b[38;5;241;43m.\u001b[39;49m\u001b[38;5;21;43m__init__\u001b[39;49m\u001b[43m(\u001b[49m\u001b[43mmodels_path\u001b[49m\u001b[43m,\u001b[49m\u001b[43m \u001b[49m\u001b[43mbeam_width\u001b[49m\u001b[38;5;241;43m=\u001b[39;49m\u001b[43mbeam_width\u001b[49m\u001b[43m,\u001b[49m\u001b[43m \u001b[49m\u001b[43mrescore\u001b[49m\u001b[38;5;241;43m=\u001b[39;49m\u001b[43mrescore\u001b[49m\u001b[43m)\u001b[49m\n",
      "File \u001b[1;32m~\\AppData\\Roaming\\Python\\Python311\\site-packages\\ai4bharat\\transliteration\\transformer\\base_engine.py:45\u001b[0m, in \u001b[0;36mBaseEngineTransformer.__init__\u001b[1;34m(self, models_path, beam_width, rescore)\u001b[0m\n\u001b[0;32m     42\u001b[0m     lang_pairs_csv \u001b[38;5;241m=\u001b[39m \u001b[38;5;124m'\u001b[39m\u001b[38;5;124m,\u001b[39m\u001b[38;5;124m'\u001b[39m\u001b[38;5;241m.\u001b[39mjoin([\u001b[38;5;124m\"\u001b[39m\u001b[38;5;124men-\u001b[39m\u001b[38;5;124m\"\u001b[39m\u001b[38;5;241m+\u001b[39mlang \u001b[38;5;28;01mfor\u001b[39;00m lang \u001b[38;5;129;01min\u001b[39;00m \u001b[38;5;28mself\u001b[39m\u001b[38;5;241m.\u001b[39mall_supported_langs])\n\u001b[0;32m     44\u001b[0m \u001b[38;5;66;03m# initialize the model\u001b[39;00m\n\u001b[1;32m---> 45\u001b[0m \u001b[38;5;28;01mfrom\u001b[39;00m \u001b[38;5;21;01m.\u001b[39;00m\u001b[38;5;21;01mcustom_interactive\u001b[39;00m \u001b[38;5;28;01mimport\u001b[39;00m Transliterator\n\u001b[0;32m     46\u001b[0m \u001b[38;5;28mself\u001b[39m\u001b[38;5;241m.\u001b[39mtransliterator \u001b[38;5;241m=\u001b[39m Transliterator(\n\u001b[0;32m     47\u001b[0m     os\u001b[38;5;241m.\u001b[39mpath\u001b[38;5;241m.\u001b[39mjoin(models_path, CHARS_FOLDER),\n\u001b[0;32m     48\u001b[0m     os\u001b[38;5;241m.\u001b[39mpath\u001b[38;5;241m.\u001b[39mjoin(models_path, MODEL_FILE),\n\u001b[1;32m   (...)\u001b[0m\n\u001b[0;32m     51\u001b[0m     beam \u001b[38;5;241m=\u001b[39m beam_width, batch_size \u001b[38;5;241m=\u001b[39m \u001b[38;5;241m32\u001b[39m,\n\u001b[0;32m     52\u001b[0m )\n\u001b[0;32m     54\u001b[0m \u001b[38;5;28mself\u001b[39m\u001b[38;5;241m.\u001b[39mbeam_width \u001b[38;5;241m=\u001b[39m beam_width\n",
      "File \u001b[1;32m~\\AppData\\Roaming\\Python\\Python311\\site-packages\\ai4bharat\\transliteration\\transformer\\custom_interactive.py:21\u001b[0m\n\u001b[0;32m     18\u001b[0m \u001b[38;5;28;01mfrom\u001b[39;00m \u001b[38;5;21;01mcollections\u001b[39;00m \u001b[38;5;28;01mimport\u001b[39;00m namedtuple\n\u001b[0;32m     20\u001b[0m \u001b[38;5;28;01mimport\u001b[39;00m \u001b[38;5;21;01mnumpy\u001b[39;00m \u001b[38;5;28;01mas\u001b[39;00m \u001b[38;5;21;01mnp\u001b[39;00m\n\u001b[1;32m---> 21\u001b[0m \u001b[38;5;28;01mimport\u001b[39;00m \u001b[38;5;21;01mtorch\u001b[39;00m\n\u001b[0;32m     23\u001b[0m \u001b[38;5;28;01mfrom\u001b[39;00m \u001b[38;5;21;01mfairseq\u001b[39;00m \u001b[38;5;28;01mimport\u001b[39;00m checkpoint_utils, distributed_utils, options, tasks, utils\n\u001b[0;32m     24\u001b[0m \u001b[38;5;28;01mfrom\u001b[39;00m \u001b[38;5;21;01mfairseq\u001b[39;00m\u001b[38;5;21;01m.\u001b[39;00m\u001b[38;5;21;01mdataclass\u001b[39;00m\u001b[38;5;21;01m.\u001b[39;00m\u001b[38;5;21;01mconfigs\u001b[39;00m \u001b[38;5;28;01mimport\u001b[39;00m FairseqConfig\n",
      "File \u001b[1;32m~\\AppData\\Roaming\\Python\\Python311\\site-packages\\torch\\__init__.py:141\u001b[0m\n\u001b[0;32m    139\u001b[0m                 err \u001b[38;5;241m=\u001b[39m ctypes\u001b[38;5;241m.\u001b[39mWinError(ctypes\u001b[38;5;241m.\u001b[39mget_last_error())\n\u001b[0;32m    140\u001b[0m                 err\u001b[38;5;241m.\u001b[39mstrerror \u001b[38;5;241m+\u001b[39m\u001b[38;5;241m=\u001b[39m \u001b[38;5;124mf\u001b[39m\u001b[38;5;124m'\u001b[39m\u001b[38;5;124m Error loading \u001b[39m\u001b[38;5;124m\"\u001b[39m\u001b[38;5;132;01m{\u001b[39;00mdll\u001b[38;5;132;01m}\u001b[39;00m\u001b[38;5;124m\"\u001b[39m\u001b[38;5;124m or one of its dependencies.\u001b[39m\u001b[38;5;124m'\u001b[39m\n\u001b[1;32m--> 141\u001b[0m                 \u001b[38;5;28;01mraise\u001b[39;00m err\n\u001b[0;32m    143\u001b[0m     kernel32\u001b[38;5;241m.\u001b[39mSetErrorMode(prev_error_mode)\n\u001b[0;32m    146\u001b[0m \u001b[38;5;28;01mdef\u001b[39;00m \u001b[38;5;21m_preload_cuda_deps\u001b[39m(lib_folder, lib_name):\n",
      "\u001b[1;31mOSError\u001b[0m: [WinError 126] The specified module could not be found. Error loading \"C:\\Users\\akash\\AppData\\Roaming\\Python\\Python311\\site-packages\\torch\\lib\\shm.dll\" or one of its dependencies."
     ]
    }
   ],
   "source": [
    "text = 'पूनम Devi'\n",
    "translator = Translator()\n",
    "translation = translator.detect(text)\n",
    "print(translation.lang)\n",
    "\n",
    "e = XlitEngine(src_script_type=\"indic\", beam_width=10, rescore=False)\n",
    "out = e.translit_sentence(text, lang_code=translation.lang)\n",
    "print(out)"
   ]
  },
  {
   "cell_type": "code",
   "execution_count": null,
   "metadata": {
    "id": "ZvSrytPsBzhf"
   },
   "outputs": [],
   "source": [
    "data1 = pd.read_excel('Nassscom/1.0/NF 1.0 Local Language Names.xlsx')\n",
    "data2 = pd.read_excel('Nassscom/1.0/Test Translit.xlsx')\n",
    "data2"
   ]
  },
  {
   "cell_type": "code",
   "execution_count": null,
   "metadata": {
    "id": "4WSG68FDB9SZ"
   },
   "outputs": [],
   "source": [
    "def translit(col):\n",
    "  translator = Translator()\n",
    "  e = XlitEngine(src_script_type=\"indic\", beam_width=10, rescore=False)\n",
    "\n",
    "  transliterated = []\n",
    "\n",
    "  for s in col:\n",
    "    if len(s.split(' '))>1:\n",
    "      ts = []\n",
    "      for w in s.split(' '):\n",
    "        translation = translator.detect(w)\n",
    "        try:\n",
    "          ts.append(e.translit_word(w, lang_code = translation.lang, topk=1))\n",
    "        except NotImplementedError:\n",
    "          ts.append(w)\n",
    "\n",
    "      transliterated.append(' '.join(ts))\n",
    "    else:\n",
    "      translation = translator.detect(s)\n",
    "      try:\n",
    "        transliterated.append(e.translit_sentence(s, lang_code = translation.lang))\n",
    "      except NotImplementedError:\n",
    "        transliterated.append(s)\n",
    "\n",
    "\n",
    "  return transliterated\n",
    "\n"
   ]
  },
  {
   "cell_type": "code",
   "execution_count": null,
   "metadata": {
    "id": "jo668a8Zymlp"
   },
   "outputs": [],
   "source": [
    "translator = Translator()\n",
    "e = XlitEngine(src_script_type=\"indic\", beam_width = 5, rescore=False)\n",
    "\n",
    "def translit(x):\n",
    "  lang = translator.translate(x)\n",
    "  lang_code = lang.src\n",
    "\n",
    "  try:\n",
    "    translited = e.translit_sentence(x, lang_code = lang_code)\n",
    "    print(\"Transliterated : \",translited)\n",
    "    return translited\n",
    "        \n",
    "  except NotImplementedError:\n",
    "    ts = []\n",
    "    for w in x.split(' '):\n",
    "      lang = translator.translate(w)\n",
    "      lang_code = lang.src\n",
    "      try:\n",
    "        ts.append(e.translit_word(w, lang_code = lang_code, topk=1)[0])\n",
    "      except NotImplementedError:\n",
    "        ts.append(w)\n",
    "    s = ' '.join(ts)\n",
    "    print(\"Not Transliterated : \", s)\n",
    "    return s\n",
    "    \n",
    "    "
   ]
  },
  {
   "cell_type": "code",
   "execution_count": null,
   "metadata": {
    "id": "JQ3NZYaQjBV5"
   },
   "outputs": [],
   "source": [
    "data1['Transliterated'] = data1['Citizen Name'].apply(lambda x: translit(x))\n",
    "data1.head()"
   ]
  },
  {
   "cell_type": "code",
   "execution_count": null,
   "metadata": {
    "id": "Hso5zZhJola6"
   },
   "outputs": [],
   "source": [
    "data1.to_excel('Nassscom/1.0/NF 1.0 Transliterated Local Language Names.xlsx', index=False)\n",
    "print(\"Export to excel success!\")"
   ]
  }
 ],
 "metadata": {
  "colab": {
   "provenance": []
  },
  "kernelspec": {
   "display_name": "Python 3 (ipykernel)",
   "language": "python",
   "name": "python3"
  },
  "language_info": {
   "codemirror_mode": {
    "name": "ipython",
    "version": 3
   },
   "file_extension": ".py",
   "mimetype": "text/x-python",
   "name": "python",
   "nbconvert_exporter": "python",
   "pygments_lexer": "ipython3",
   "version": "3.11.4"
  }
 },
 "nbformat": 4,
 "nbformat_minor": 4
}
