{
 "cells": [
  {
   "cell_type": "code",
   "execution_count": null,
   "metadata": {},
   "outputs": [],
   "source": [
    "!pip install googletrans==3.1.0a0\n",
    "!pip install langdetect\n",
    "!pip install ai4bharat-transliteration"
   ]
  },
  {
   "cell_type": "code",
   "execution_count": 4,
   "metadata": {
    "id": "j-7WPdeB-qOV"
   },
   "outputs": [
    {
     "name": "stdout",
     "output_type": "stream",
     "text": [
      "Required Libraries Imported\n"
     ]
    }
   ],
   "source": [
    "from googletrans import Translator\n",
    "from langdetect import detect\n",
    "from ai4bharat.transliteration import XlitEngine\n",
    "import os\n",
    "import pandas as pd, numpy as np\n",
    "print('Required Libraries Imported')"
   ]
  },
  {
   "cell_type": "code",
   "execution_count": null,
   "metadata": {
    "id": "s-bSDPQO-oUw"
   },
   "outputs": [],
   "source": [
    "text = 'पूनम Devi'\n",
    "translator = Translator()\n",
    "translation = translator.detect(text)\n",
    "print(translation.lang)\n",
    "\n",
    "e = XlitEngine(src_script_type=\"indic\", beam_width=10, rescore=False)\n",
    "out = e.translit_sentence(text, lang_code=translation.lang)\n",
    "print(out)"
   ]
  },
  {
   "cell_type": "code",
   "execution_count": null,
   "metadata": {
    "id": "ZvSrytPsBzhf"
   },
   "outputs": [],
   "source": [
    "data1 = pd.read_excel('Nassscom/1.0/NF 1.0 Local Language Names.xlsx')\n",
    "data2 = pd.read_excel('Nassscom/1.0/Test Translit.xlsx')\n",
    "data2"
   ]
  },
  {
   "cell_type": "code",
   "execution_count": null,
   "metadata": {
    "id": "4WSG68FDB9SZ"
   },
   "outputs": [],
   "source": [
    "def translit(col):\n",
    "  translator = Translator()\n",
    "  e = XlitEngine(src_script_type=\"indic\", beam_width=10, rescore=False)\n",
    "\n",
    "  transliterated = []\n",
    "\n",
    "  for s in col:\n",
    "    if len(s.split(' '))>1:\n",
    "      ts = []\n",
    "      for w in s.split(' '):\n",
    "        translation = translator.detect(w)\n",
    "        try:\n",
    "          ts.append(e.translit_word(w, lang_code = translation.lang, topk=1))\n",
    "        except NotImplementedError:\n",
    "          ts.append(w)\n",
    "\n",
    "      transliterated.append(' '.join(ts))\n",
    "    else:\n",
    "      translation = translator.detect(s)\n",
    "      try:\n",
    "        transliterated.append(e.translit_sentence(s, lang_code = translation.lang))\n",
    "      except NotImplementedError:\n",
    "        transliterated.append(s)\n",
    "\n",
    "\n",
    "  return transliterated\n",
    "\n"
   ]
  },
  {
   "cell_type": "code",
   "execution_count": null,
   "metadata": {
    "id": "jo668a8Zymlp"
   },
   "outputs": [],
   "source": [
    "translator = Translator()\n",
    "e = XlitEngine(src_script_type=\"indic\", beam_width = 5, rescore=False)\n",
    "\n",
    "def translit(x):\n",
    "  lang = translator.translate(x)\n",
    "  lang_code = lang.src\n",
    "\n",
    "  try:\n",
    "    translited = e.translit_sentence(x, lang_code = lang_code)\n",
    "    print(\"Transliterated : \",translited)\n",
    "    return translited\n",
    "        \n",
    "  except NotImplementedError:\n",
    "    ts = []\n",
    "    for w in x.split(' '):\n",
    "      lang = translator.translate(w)\n",
    "      lang_code = lang.src\n",
    "      try:\n",
    "        ts.append(e.translit_word(w, lang_code = lang_code, topk=1)[0])\n",
    "      except NotImplementedError:\n",
    "        ts.append(w)\n",
    "    s = ' '.join(ts)\n",
    "    print(\"Not Transliterated : \", s)\n",
    "    return s"
   ]
  },
  {
   "cell_type": "code",
   "execution_count": null,
   "metadata": {
    "id": "JQ3NZYaQjBV5"
   },
   "outputs": [],
   "source": [
    "data1 = pd.read_csv(r\"C:\\Python\\read\\cases_report_Nasscom1.0_All_(All States)_2024-05-17.csv\")\n",
    "data1['Transliterated'] = data1['Citizen Name'].apply(lambda x: translit(x))\n",
    "data1.head()"
   ]
  },
  {
   "cell_type": "code",
   "execution_count": null,
   "metadata": {
    "id": "Hso5zZhJola6"
   },
   "outputs": [],
   "source": [
    "data1.to_excel('Nassscom/1.0/NF 1.0 Transliterated Local Language Names.xlsx', index=False)\n",
    "print(\"Export to excel success!\")"
   ]
  },
  {
   "cell_type": "code",
   "execution_count": 25,
   "metadata": {},
   "outputs": [
    {
     "data": {
      "text/plain": [
       "'Udam Singh Nagar'"
      ]
     },
     "execution_count": 25,
     "metadata": {},
     "output_type": "execute_result"
    }
   ],
   "source": [
    "t = Translator()\n",
    "txlated = t.translate(\"उदम सिंह नगर\")\n",
    "txlated.text"
   ]
  }
 ],
 "metadata": {
  "colab": {
   "provenance": []
  },
  "kernelspec": {
   "display_name": "Python 3 (ipykernel)",
   "language": "python",
   "name": "python3"
  },
  "language_info": {
   "codemirror_mode": {
    "name": "ipython",
    "version": 3
   },
   "file_extension": ".py",
   "mimetype": "text/x-python",
   "name": "python",
   "nbconvert_exporter": "python",
   "pygments_lexer": "ipython3",
   "version": "3.11.4"
  }
 },
 "nbformat": 4,
 "nbformat_minor": 4
}
