{
 "cells": [
  {
   "cell_type": "markdown",
   "id": "d7f50252-8fd5-4c2d-8659-695c0c28886a",
   "metadata": {},
   "source": [
    "# M&E DFL Data Transpose"
   ]
  },
  {
   "cell_type": "markdown",
   "id": "2ea554db-3ca1-4e72-a841-1782f79db997",
   "metadata": {},
   "source": [
    "#### Importing required libraries"
   ]
  },
  {
   "cell_type": "code",
   "execution_count": 1,
   "id": "845c5445-2029-4878-8101-28789a45f193",
   "metadata": {},
   "outputs": [
    {
     "name": "stdout",
     "output_type": "stream",
     "text": [
      "Required libraries imported!\n"
     ]
    }
   ],
   "source": [
    "import pandas as pd, numpy as np\n",
    "import xlsxwriter, openpyxl\n",
    "from datetime import datetime as dt\n",
    "import warnings\n",
    "warnings.filterwarnings('ignore')\n",
    "pd.set_option('display.max_columns', None)\n",
    "pd.set_option('display.max_rows', None)\n",
    "print('Required libraries imported!')"
   ]
  },
  {
   "cell_type": "markdown",
   "id": "3df71cc1-2389-4831-8245-72c899afba40",
   "metadata": {},
   "source": [
    "#### Reading the excel / csv file"
   ]
  },
  {
   "cell_type": "code",
   "execution_count": 2,
   "id": "dfebcb91-3e2e-4292-a4d1-c7fc496bc8d3",
   "metadata": {},
   "outputs": [],
   "source": [
    "def csvORexcel(file_Name):\n",
    "    global path\n",
    "    path = \"C:\\\\Python\\\\read\\\\\"+file_Name\n",
    "    try:\n",
    "        if file_Name.split('.')[-1].startswith('c'):\n",
    "            df = pd.read_csv(path)\n",
    "            return df\n",
    "        elif file_Name.split('.')[-1].startswith('x'):\n",
    "            df = pd.read_excel(path)\n",
    "            return df\n",
    "    except FileNotFoundError:\n",
    "        print(\"The file name {0} has not found\".format(path))"
   ]
  },
  {
   "cell_type": "markdown",
   "id": "f0851b33-e8d2-49ba-8e07-65f393d7f6b5",
   "metadata": {},
   "source": [
    "#### Transposing cell data"
   ]
  },
  {
   "cell_type": "code",
   "execution_count": 3,
   "id": "61adace2-cef6-47ab-9df5-f8a8917a81e6",
   "metadata": {},
   "outputs": [],
   "source": [
    "def transposeDFL(df):\n",
    "    remove_rows=[] # Initiating a empty list to store the index numbers of the rows which need to be removed after repeatation.\n",
    "\n",
    "    for idx in df.index: # Iterating through index numbers.\n",
    "        if df['RepresentativeNames'][idx] not in [np.nan]: # Checking if cell needs transpose.\n",
    "            \n",
    "            remove_rows.append(idx) # Storing the index numbers of the rows which need to be removed after repeatation.\n",
    "            \n",
    "            # Creating list of cell data against 'RepresentativeNames', 'RepresentativeRoles', 'RepresentativeMobileNumbers' columns.\n",
    "            rName = df['RepresentativeNames'][idx].split(',') # Spliting cell data to convert into list.\n",
    "            rRole = df['RepresentativeRoles'][idx].split(',') # Spliting cell data to convert into list.\n",
    "            rMoNo = df['RepresentativeMobileNumbers'][idx].split(',') # Spliting cell data to convert into list.\n",
    "    \n",
    "            if len(rRole) > len(rName): # Checking if 'RepresentativeNames' have more data than 'RepresentativeRoles'.\n",
    "                for i in range(len(rRole)-len(rName)): # Iterating through the difference of the no. of elements between 'RepresentativeNames' & 'RepresentativeRoles'\n",
    "                    rRole.pop() # Remove extra entry from 'RepresentativeRoles'\n",
    "            \n",
    "            if len(rMoNo) > len(rName): # Checking if 'RepresentativeNames' have more data than 'RepresentativeMobileNumbers'.\n",
    "                for i in range(len(rMoNo)-len(rName)): # Iterating through the difference of the no. of elements between 'RepresentativeNames' & 'RepresentativeMobileNumbers'\n",
    "                    rMoNo.pop() # Remove extra entry from 'RepresentativeMobileNumbers'\n",
    "            \n",
    "            if len(rRole) < len(rName): # Checking if 'RepresentativeRoles' have more data than 'RepresentativeNames'.\n",
    "                for i in range(len(rName)-len(rRole)): # Iterating through the difference of the no. of elements between 'RepresentativeNames' & 'RepresentativeRoles'\n",
    "                    rRole.append(df['RepresentativeRoles'][idx].split(',')[-1].strip()) # Repeating the last element of the and adding it to 'RepresentativeRoles' to match with 'RepresentativeNames'\n",
    "            \n",
    "            if len(rMoNo) < len(rName): # Checking if 'RepresentativeMobileNumbers' have more data than 'RepresentativeNames'.\n",
    "                for i in range(len(rName)-len(rMoNo)): # Iterating through the difference of the no. of elements between 'RepresentativeNames' & 'RepresentativeMobileNumbers'\n",
    "                    rMoNo.append(df['RepresentativeMobileNumbers'][idx].split(',')[-1].strip()) # Repeating the last element of the and adding it to 'RepresentativeMobileNumbers' to match with 'RepresentativeNames'\n",
    "\n",
    "            temp = pd.concat([df[idx:idx+1]] * len(rName), axis=0,ignore_index=True) # Repeating the row and temporarily storing it\n",
    "            temp['RepresentativeNames'] = rName # Transposing the 'RepresentativeNames'\n",
    "            temp['RepresentativeRoles'] = rRole # Transposing the 'RepresentativeRoles'\n",
    "            temp['RepresentativeMobileNumbers'] = rMoNo # Transposing the 'RepresentativeMobileNumbers'\n",
    "            df = pd.concat([df,temp],axis=0) # Adding transposed and repeated rows to main data.\n",
    "                \n",
    "    df.drop(index=remove_rows,inplace=True) # Remove initial rows which have transposed.\n",
    "    return df # Return final transposed data.\n",
    "\n",
    "def export_data(df): # Export data in excel format.\n",
    "    with pd.ExcelWriter('C:\\\\Python\\\\export\\\\transposed_data_'+fn.split('.')[0]+'.xlsx', engine='xlsxwriter', engine_kwargs={'options': {'strings_to_urls': False}}) as writer:\n",
    "        df.to_excel(writer, sheet_name='Transposed Data', index=False)\n",
    "    print('Transposed Data has been exported to below location:\\n','C:\\\\Python\\\\export\\\\transposed_data_'+fn.split('.')[0]+'.xlsx')"
   ]
  },
  {
   "cell_type": "markdown",
   "id": "a2dbd93a-db42-423b-a116-7da6d86b2f5b",
   "metadata": {},
   "source": [
    "#### Processing the data"
   ]
  },
  {
   "cell_type": "code",
   "execution_count": 4,
   "id": "8102de9a-f137-4b28-a080-1d19227356a7",
   "metadata": {},
   "outputs": [
    {
     "name": "stdin",
     "output_type": "stream",
     "text": [
      "Please provide file name =  DFL (19 Jan To 25 Jan) BR.xlsx\n"
     ]
    },
    {
     "name": "stdout",
     "output_type": "stream",
     "text": [
      "Transposing data of  DFL (19 Jan To 25 Jan) BR.xlsx\n",
      "Exporting transposed data of  DFL (19 Jan To 25 Jan) BR.xlsx\n",
      "Transposed Data has been exported to below location:\n",
      " C:\\Python\\export\\transposed_data_DFL (19 Jan To 25 Jan) BR.xlsx\n"
     ]
    }
   ],
   "source": [
    "file_Name = input('Please provide file name = ')\n",
    "data0 = csvORexcel(file_Name)\n",
    "fn = file_Name\n",
    "print('Transposing data of ',fn)\n",
    "transposed_data = transposeDFL(data0)\n",
    "print('Exporting transposed data of ',fn)\n",
    "export_data(transposed_data)"
   ]
  },
  {
   "cell_type": "raw",
   "id": "30e94f91-398c-473e-bce6-9fb771c16bbb",
   "metadata": {
    "scrolled": true
   },
   "source": [
    "remove_rows=[]\n",
    "RepresentativeNames = []\n",
    "RepresentativeRoles = []\n",
    "RepresentativeMoNo = []\n",
    "\n",
    "for idx in data1.index:\n",
    "    if data1['RepresentativeNames'][idx] in [np.nan]:\n",
    "        RepresentativeNames.append(data1['RepresentativeNames'][idx])\n",
    "        RepresentativeRoles.append(data1['RepresentativeRoles'][idx])\n",
    "        RepresentativeMoNo.append(data1['RepresentativeMobileNumbers'][idx])\n",
    "    else:\n",
    "        remove_rows.append(idx)\n",
    "        #RepresentativeNames.append(data1['RepresentativeNames'][idx])\n",
    "        #RepresentativeRoles.append(data1['RepresentativeRoles'][idx])\n",
    "        #RepresentativeMoNo.append(data1['RepresentativeMobileNumbers'][idx])\n",
    "        rName = data1['RepresentativeNames'][idx].split(',')\n",
    "        rRole = data1['RepresentativeRoles'][idx].split(',')\n",
    "        rMoNo = data1['RepresentativeMobileNumbers'][idx].split(',')\n",
    "\n",
    "        if len(rRole) < len(rName):\n",
    "            for i in range(len(rName)-len(rRole)):\n",
    "                rRole.append(data1['RepresentativeRoles'][idx].split(',')[-1].strip())\n",
    "        if len(rMoNo) < len(rName):\n",
    "            for i in range(len(rName)-len(rMoNo)):\n",
    "                rMoNo.append(data1['RepresentativeMobileNumbers'][idx].split(',')[-1].strip())\n",
    "        #print('for = ',idx)\n",
    "        for i in range(len(rName)):\n",
    "            if len(rRole) < len(rName):\n",
    "                #print('if = ',idx)\n",
    "                RepresentativeNames.append(rName[i].strip())\n",
    "                RepresentativeRoles.append(rRole[0].strip())\n",
    "                RepresentativeMoNo.append(rMoNo[i].strip())\n",
    "            elif len(rRole) == 2:\n",
    "                #print('elif = ',idx)\n",
    "                if i == 0:\n",
    "                    RepresentativeNames.append(rName[i].strip())\n",
    "                    RepresentativeRoles.append(rRole[0].strip())\n",
    "                    RepresentativeMoNo.append(rMoNo[i].strip())\n",
    "                else:\n",
    "                    RepresentativeNames.append(rName[i].strip())\n",
    "                    RepresentativeRoles.append(rRole[1].strip())\n",
    "                    RepresentativeMoNo.append(rMoNo[i].strip())\n",
    "            else:\n",
    "                #print('else = ',idx)\n",
    "                RepresentativeNames.append(rName[i].strip())\n",
    "                RepresentativeRoles.append(rRole[i].strip())\n",
    "                RepresentativeMoNo.append(rMoNo[i].strip())\n",
    "        #print(idx)\n",
    "        data1 = pd.concat([data1,pd.concat([data1[idx:idx+1]] * len(rName), axis=0, ignore_index=True)],axis=0)\n",
    "        #data1.drop(index=idx,inplace=True)\n",
    "\n",
    "#data1['RepresentativeNames'] = RepresentativeNames\n",
    "#data1['RepresentativeRoles'] = RepresentativeRoles\n",
    "#data1['RepresentativeMobileNumbers'] = RepresentativeMoNo"
   ]
  }
 ],
 "metadata": {
  "kernelspec": {
   "display_name": "Python 3 (ipykernel)",
   "language": "python",
   "name": "python3"
  },
  "language_info": {
   "codemirror_mode": {
    "name": "ipython",
    "version": 3
   },
   "file_extension": ".py",
   "mimetype": "text/x-python",
   "name": "python",
   "nbconvert_exporter": "python",
   "pygments_lexer": "ipython3",
   "version": "3.11.4"
  }
 },
 "nbformat": 4,
 "nbformat_minor": 5
}
